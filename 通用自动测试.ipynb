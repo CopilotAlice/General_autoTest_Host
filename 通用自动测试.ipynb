{
 "cells": [
  {
   "cell_type": "code",
   "execution_count": 5,
   "metadata": {},
   "outputs": [],
   "source": [
    "import numpy as np \n",
    "import pandas as pd \n",
    "import matplotlib.pyplot as plt \n",
    "from scipy import signal\n",
    "import time\n",
    "import datetime\n",
    "import serial\n",
    "from scipy.fftpack import fft,ifft\n",
    "from matplotlib.pylab import mpl\n",
    "import struct\n",
    "import os\n",
    "import serial\n",
    "from pathlib import Path\n",
    "\n",
    "mpl.rcParams['font.sans-serif'] = ['SimHei']\n",
    "mpl.rcParams['axes.unicode_minus'] = False"
   ]
  },
  {
   "cell_type": "code",
   "execution_count": 3,
   "metadata": {},
   "outputs": [],
   "source": [
    "!python.exe -m PyQt5.uic.pyuic Automated_testingV1.6.ui -o Automated_testingV16.py"
   ]
  },
  {
   "cell_type": "code",
   "execution_count": 10,
   "metadata": {},
   "outputs": [],
   "source": [
    "!python.exe -m PyQt5.uic.pyuic Automated_testingV1.7.ui -o Automated_testingV17.py"
   ]
  },
  {
   "cell_type": "code",
   "execution_count": 58,
   "metadata": {},
   "outputs": [],
   "source": [
    "!python.exe -m PyQt5.uic.pyuic Automated_testing.ui -o Automated_testing.py"
   ]
  },
  {
   "cell_type": "code",
   "execution_count": 4,
   "metadata": {},
   "outputs": [
    {
     "name": "stdout",
     "output_type": "stream",
     "text": [
      "1231254\n"
     ]
    }
   ],
   "source": [
    "a = '1231254'\n",
    "print(a[:20])"
   ]
  },
  {
   "cell_type": "code",
   "execution_count": 31,
   "metadata": {},
   "outputs": [],
   "source": [
    "def del_empty_folder(path):\n",
    "    for folder in os.listdir(path):\n",
    "        folder_path = os.path.join(path,folder)\n",
    "        if os.path.isdir(folder_path):\n",
    "            del_empty_folder(folder_path)\n",
    "            if not os.listdir(folder_path):\n",
    "                os.rmdir(folder_path)\n",
    "del_empty_folder('D:\\\\Data\\\\BD_Data\\\\标定数据\\\\测试\\\\202503')"
   ]
  },
  {
   "cell_type": "code",
   "execution_count": 33,
   "metadata": {},
   "outputs": [
    {
     "data": {
      "text/plain": [
       "'D:\\\\Data\\\\BD_Data\\\\标定数据\\\\测试\\\\202503'"
      ]
     },
     "execution_count": 33,
     "metadata": {},
     "output_type": "execute_result"
    }
   ],
   "source": [
    "str(Path('D:/Data/BD_Data/标定数据/测试/202503'))"
   ]
  },
  {
   "cell_type": "code",
   "execution_count": 14,
   "metadata": {},
   "outputs": [],
   "source": [
    "test = b'\\x55\\xaa\\xcc\\xdd'\n",
    "test_list = struct.unpack('>BBBB',test)"
   ]
  },
  {
   "cell_type": "code",
   "execution_count": 20,
   "metadata": {},
   "outputs": [
    {
     "data": {
      "text/plain": [
       "[85, 170, 204, 221]"
      ]
     },
     "execution_count": 20,
     "metadata": {},
     "output_type": "execute_result"
    }
   ],
   "source": [
    "bit_data = []\n",
    "bit_data+=test_list\n",
    "bit_data"
   ]
  },
  {
   "cell_type": "code",
   "execution_count": 4,
   "metadata": {},
   "outputs": [],
   "source": [
    "select_plan_name = '01_自动测试'\n",
    "plan_rule_name = './自动规则/{}.txt'.format(select_plan_name)\n",
    "plan_files = pd.read_csv(plan_rule_name,sep='\\\\s+',header=None,encoding='gb2312')"
   ]
  },
  {
   "cell_type": "code",
   "execution_count": 24,
   "metadata": {},
   "outputs": [
    {
     "name": "stdout",
     "output_type": "stream",
     "text": [
      "[8, 16, 24]\n",
      "[2.6666666666666665, 5.333333333333333, 8.0]\n"
     ]
    }
   ],
   "source": [
    "a = [1,2,3]\n",
    "for j in range(3):\n",
    "    for i in range(len(a)):\n",
    "        a[i]+=a[i]\n",
    "print(a)\n",
    "for i in range(len(a)):\n",
    "    a[i] = a[i]/3\n",
    "print(a)"
   ]
  },
  {
   "cell_type": "code",
   "execution_count": 34,
   "metadata": {},
   "outputs": [
    {
     "data": {
      "text/plain": [
       "True"
      ]
     },
     "execution_count": 34,
     "metadata": {},
     "output_type": "execute_result"
    }
   ],
   "source": [
    "a[2].is_integer()"
   ]
  },
  {
   "cell_type": "code",
   "execution_count": 35,
   "metadata": {},
   "outputs": [
    {
     "data": {
      "text/plain": [
       "['2.666667', '5.333333', '8']"
      ]
     },
     "execution_count": 35,
     "metadata": {},
     "output_type": "execute_result"
    }
   ],
   "source": [
    "receive_data_s = [2.6666666666666665, 5.333333333333333, 8.0]\n",
    "save_decimal_point = 6\n",
    "['{:.{}f}'.format(i,save_decimal_point)if not i.is_integer() else str(int(i)) for i in receive_data_s]"
   ]
  },
  {
   "cell_type": "code",
   "execution_count": 44,
   "metadata": {},
   "outputs": [
    {
     "data": {
      "text/plain": [
       "1"
      ]
     },
     "execution_count": 44,
     "metadata": {},
     "output_type": "execute_result"
    }
   ],
   "source": [
    "plot_axis_text = '1  1235ms计数'\n",
    "try:axis_plot = int(plot_axis_text.split()[0])\n",
    "except:axis_plot = 0\n",
    "axis_plot"
   ]
  },
  {
   "cell_type": "code",
   "execution_count": 1,
   "metadata": {},
   "outputs": [
    {
     "data": {
      "text/plain": [
       "True"
      ]
     },
     "execution_count": 1,
     "metadata": {},
     "output_type": "execute_result"
    }
   ],
   "source": [
    "type(0.01)==float"
   ]
  },
  {
   "cell_type": "code",
   "execution_count": 11,
   "metadata": {},
   "outputs": [
    {
     "data": {
      "text/plain": [
       "'55aaac00000003b900074fd13c76977dbeb616d03f2104e97f1f9bab3d3886c64301861703ac03a603b603b803c200000000000000000500000000000000c0ff'"
      ]
     },
     "execution_count": 11,
     "metadata": {},
     "output_type": "execute_result"
    }
   ],
   "source": [
    "\n",
    "strings = '55aaac00000003b900074fd13c76977dbeb616d03f2104e97f1f9bab3d3886c64301861703ac03a603b603b803c200000000000000000500000000000000c0ff'\n",
    "strings"
   ]
  },
  {
   "cell_type": "code",
   "execution_count": 12,
   "metadata": {},
   "outputs": [
    {
     "data": {
      "text/plain": [
       "b'U\\xaa\\xac\\x00\\x00\\x00\\x03\\xb9\\x00\\x07O\\xd1<v\\x97}\\xbe\\xb6\\x16\\xd0?!\\x04\\xe9\\x7f\\x1f\\x9b\\xab=8\\x86\\xc6C\\x01\\x86\\x17\\x03\\xac\\x03\\xa6\\x03\\xb6\\x03\\xb8\\x03\\xc2\\x00\\x00\\x00\\x00\\x00\\x00\\x00\\x00\\x05\\x00\\x00\\x00\\x00\\x00\\x00\\x00\\xc0\\xff'"
      ]
     },
     "execution_count": 12,
     "metadata": {},
     "output_type": "execute_result"
    }
   ],
   "source": [
    "bytes.fromhex(strings)"
   ]
  },
  {
   "cell_type": "code",
   "execution_count": 17,
   "metadata": {},
   "outputs": [
    {
     "data": {
      "text/plain": [
       "'55 aa ac 00 00 00 03 b9 00 07 4f d1 3c 76 97 7d be b6 16 d0 3f 21 04 e9 7f 1f 9b ab 3d 38 86 c6 43 01 86 17 03 ac 03 a6 03 b6 03 b8 03 c2 00 00 00 00 00 00 00 00 05 00 00 00 00 00 00 00 c0 ff '"
      ]
     },
     "execution_count": 17,
     "metadata": {},
     "output_type": "execute_result"
    }
   ],
   "source": [
    "split_data = ''\n",
    "split_list = []\n",
    "for i in range(len(strings)//2):\n",
    "    split_data+=strings[i*2:i*2+2]+' '\n",
    "    split_list.append(strings[i*2:i*2+2])\n",
    "split_data"
   ]
  },
  {
   "cell_type": "code",
   "execution_count": 3,
   "metadata": {},
   "outputs": [
    {
     "ename": "NameError",
     "evalue": "name '__dict__' is not defined",
     "output_type": "error",
     "traceback": [
      "\u001b[1;31m---------------------------------------------------------------------------\u001b[0m",
      "\u001b[1;31mNameError\u001b[0m                                 Traceback (most recent call last)",
      "Cell \u001b[1;32mIn[3], line 1\u001b[0m\n\u001b[1;32m----> 1\u001b[0m \u001b[38;5;18m__dict__\u001b[39m[\u001b[38;5;124m'\u001b[39m\u001b[38;5;124mtest\u001b[39m\u001b[38;5;124m'\u001b[39m] \u001b[38;5;241m=\u001b[39m \u001b[38;5;124m'\u001b[39m\u001b[38;5;124mtest\u001b[39m\u001b[38;5;124m'\u001b[39m\n",
      "\u001b[1;31mNameError\u001b[0m: name '__dict__' is not defined"
     ]
    }
   ],
   "source": [
    "__dict__['test'] = 'test'"
   ]
  },
  {
   "cell_type": "code",
   "execution_count": null,
   "metadata": {},
   "outputs": [],
   "source": []
  },
  {
   "cell_type": "markdown",
   "metadata": {},
   "source": []
  },
  {
   "cell_type": "code",
   "execution_count": 1,
   "metadata": {},
   "outputs": [
    {
     "data": {
      "text/plain": [
       "68"
      ]
     },
     "execution_count": 1,
     "metadata": {},
     "output_type": "execute_result"
    }
   ],
   "source": [
    "len('EB 90 41 00 91 03 2F BC 58 F8 44 3B 89 8D 40 BC 08 F7 08 BD 0A 6D 2F 3C A9 65 1C C1 00 00 00 00 00 00 00 00 00 00 00 00 00 00 00 00 00 00 00 00 00 00 00 00 00 00 00 00 00 00 00 00 00 00 00 00 00 00 13 1F ')//3"
   ]
  },
  {
   "cell_type": "code",
   "execution_count": null,
   "metadata": {},
   "outputs": [],
   "source": [
    "import serial\n",
    "import time\n",
    "\n",
    "class turnTable3x:\n",
    "    def __init__(self):\n",
    "        self.list_debugMsg = []\n",
    "        self.list_showMsg = []\n",
    "        self.list_mode = [0, 0, 0]  # 运行模式\n",
    "        self.list_commandLocation = [0, 0, 0]\n",
    "        self.list_commandSpeed = [0, 0, 0]\n",
    "        self.list_commandAcceleration = [10, 10, 10]\n",
    "        self.flag_theading = False\n",
    "        self.serial = None\n",
    "        self.serial_com = 'COM1'\n",
    "        self.serial_check = False\n",
    "\n",
    "    def append_debugMsg(self, msg):\n",
    "        if isinstance(msg, list):\n",
    "            msg = ', '.join([str(i) for i in msg])\n",
    "        self.list_debugMsg.append(str(msg))\n",
    "        while len(self.list_debugMsg) > 10:\n",
    "            self.list_debugMsg.pop(0)\n",
    "\n",
    "    def append_showMsg(self, msg):\n",
    "        if isinstance(msg, list):\n",
    "            msg = ', '.join([str(i) for i in msg])\n",
    "        self.list_showMsg.append(str(msg))\n",
    "        while len(self.list_showMsg) > 100:\n",
    "            self.list_showMsg.pop(0)\n",
    "    def serial_open(self):\n",
    "        if self.serial is None:\n",
    "            try:\n",
    "                self.serial = serial.Serial(self.serial_com, 115200)\n",
    "            except Exception as e:\n",
    "                self.append_debugMsg('开启串口异常: {}'.format(e))\n",
    "                self.serial = None\n",
    "        else:\n",
    "            try:\n",
    "                self.serial.close()\n",
    "                self.serial = None\n",
    "                self.serial = serial.Serial(self.serial_com, 115200)\n",
    "            except Exception as e:\n",
    "                self.append_debugMsg('重启串口异常: {}'.format(e))\n",
    "                self.serial = None\n",
    "\n",
    "    def serial_close(self):\n",
    "        if self.serial is None:\n",
    "            return True\n",
    "        else:\n",
    "            try:\n",
    "                self.serial.close()\n",
    "                self.serial = None\n",
    "            except Exception as e:\n",
    "                self.append_debugMsg('重启串口异常: {}'.format(e))\n",
    "    # 尝试读取串口数据\n",
    "    def serial_tryRec(self, tryCount=10, waitTime=0.02):\n",
    "        count = 0\n",
    "        while count < tryCount:\n",
    "            count += 1\n",
    "            try:\n",
    "                wait = self.serial.in_waiting\n",
    "                if wait > 0:\n",
    "                    recdata = self.serial.read(wait)\n",
    "                    return recdata\n",
    "            except Exception as e:\n",
    "                self.append_debugMsg('获取数据错误: {}'.format(e))\n",
    "                time.sleep(waitTime)\n",
    "        return False\n",
    "    # 尝试发送和读取校验\n",
    "    def sendAndRec(self, sendMsg='', recMsg=''):\n",
    "        if len(sendMsg) > 0:\n",
    "            # print('sendMsg: {}'.format(sendMsg))\n",
    "            try:\n",
    "                self.serial.write(sendMsg.encode())\n",
    "            except Exception as e:\n",
    "                self.append_debugMsg('tt_chk send error: {}'.format(e))\n",
    "                return False\n",
    "        try:\n",
    "            rec = self.serial_tryRec()\n",
    "            if not rec:\n",
    "                self.append_debugMsg('未接收到转台指令')\n",
    "                return False\n",
    "            if len(recMsg) > 0:\n",
    "                if recMsg in rec.decode():\n",
    "                    return True\n",
    "                else:\n",
    "                    self.append_showMsg('回读校验失败: {}'.format(recMsg))\n",
    "                    self.append_debugMsg(\n",
    "                        '回读校验失败: send:<{}> check:<{}> rec:<{}>'.format(sendMsg, recMsg, rec.decode())\n",
    "                    )\n",
    "                    return False\n",
    "            else:\n",
    "                return rec.decode()\n",
    "        except Exception as e:\n",
    "            self.append_debugMsg('tt_chk rec error: {}'.format(e))\n",
    "            return False\n",
    "        return False\n",
    "\n",
    "    # 通讯校验和\n",
    "    def sumCheckAscii(self, string):\n",
    "        return sum(ord(c) for c in string) & 0xFF\n",
    "\n",
    "    # 通讯检查\n",
    "    def sendMsg_chk(self):\n",
    "        return self.sendAndRec('$MNCHK,1*CE\\r\\n', '$ASCHK,OK*30')\n",
    "    # 进入远控\n",
    "    def sendMsg_rem(self):\n",
    "        return self.sendAndRec('$MNREM,1*DC\\r\\n', '$ASREM,OK*3E')\n",
    "    # 返回本控\n",
    "    def sendMsg_loc(self):\n",
    "        return self.sendAndRec('$MNLOC,1*D6\\r\\n', '$ASLOC,OK*38')\n",
    "    # 使能\n",
    "    def sendMsg_enb(self):\n",
    "        return self.sendAndRec('$MNENB,1*CD\\r\\n', '$ASENB,OK*2F')\n",
    "    # 断开使能\n",
    "    def sendMsg_dis(self):\n",
    "        return self.sendAndRec('$MNDIS,1*D8\\r\\n', '$ASDIS,OK*3A')\n",
    "    # 转台寻零\n",
    "    def sendMsg_hmz(self):\n",
    "        return self.sendAndRec('$MNHMZ,1*E7\\r\\n', '$ASHMZ,OK*49')\n",
    "    # 运行模式\n",
    "    def sendMsg_mod(self, a, b, c):\n",
    "        msg_list = [a, b, c]\n",
    "        for i in msg_list:\n",
    "            if str(i) not in ['0', '1', '2']:\n",
    "                self.append_showMsg('转台运行模式设置错误: {}'.format([a, b, c]))\n",
    "                return False\n",
    "        sendMsg = 'MNMOD,{},{},{}'.format(a, b, c)\n",
    "        recMsg = 'ASMOD,{},{},{},OK'.format(a, b, c)\n",
    "        return self.sendAndRec(\n",
    "            '${}*{:02X}\\r\\n'.format(sendMsg, self.sumCheckAscii(sendMsg)),\n",
    "            '${}*{:02X}'.format(recMsg, self.sumCheckAscii(recMsg))\n",
    "            )\n",
    "    # 位置设置\n",
    "    def sendMsg_pos(self, a, b, c):\n",
    "        msg_list = [a, b, c]\n",
    "        for i in msg_list:\n",
    "            try:float(i)\n",
    "            except:\n",
    "                self.append_showMsg('转台位置设置错误: {}'.format([a, b, c]))\n",
    "                return False\n",
    "        sendMsg = 'MNPOS,{},{},{}'.format(a, b, c)\n",
    "        recMsg = 'ASPOS,{},{},{},OK'.format(a, b, c)\n",
    "        return self.sendAndRec(\n",
    "            '${}*{:02X}\\r\\n'.format(sendMsg, self.sumCheckAscii(sendMsg)),\n",
    "            '${}*{:02X}'.format(recMsg, self.sumCheckAscii(recMsg))\n",
    "            )\n",
    "    # 速度设置\n",
    "    def sendMsg_vel(self, a, b, c):\n",
    "        msg_list = [a, b, c]\n",
    "        send_list = []\n",
    "        for i in msg_list:\n",
    "            try:send_list.append(float(i))\n",
    "            except:\n",
    "                self.append_showMsg('转台速度设置错误: {}'.format([a, b, c]))\n",
    "                return False\n",
    "        sendMsg = 'MNVEL,{},{},{}'.format(a, b, c)\n",
    "        recMsg = 'ASVEL,{},{},{},OK'.format(a, b, c)\n",
    "        return self.sendAndRec(\n",
    "            '${}*{:02X}\\r\\n'.format(sendMsg, self.sumCheckAscii(sendMsg)),\n",
    "            '${}*{:02X}'.format(recMsg, self.sumCheckAscii(recMsg))\n",
    "            )\n",
    "    # 加速度设置\n",
    "    def sendMsg_acc(self, a, b, c):\n",
    "        msg_list = [a, b, c]\n",
    "        for i in msg_list:\n",
    "            try:float(i)\n",
    "            except:\n",
    "                self.append_showMsg('转台加速度设置错误: {}'.format([a, b, c]))\n",
    "                return False\n",
    "        sendMsg = 'MNACC,{},{},{}'.format(a, b, c)\n",
    "        recMsg = 'ASACC,{},{},{},OK'.format(a, b, c)\n",
    "        return self.sendAndRec(\n",
    "            '${}*{:02X}\\r\\n'.format(sendMsg, self.sumCheckAscii(sendMsg)),\n",
    "            '${}*{:02X}'.format(recMsg, self.sumCheckAscii(recMsg))\n",
    "            )\n",
    "    # 运行\n",
    "    def sendMsg_run(self):\n",
    "        return self.sendAndRec('$MNRUN,1*ED\\r\\n', '$ASRUN,OK*4F')\n",
    "    # 停止\n",
    "    def sendMsg_stp(self):\n",
    "        return self.sendAndRec('$MNSTP,1*EF\\r\\n', '$ASSTP,OK*51')\n",
    "    # 状态查询\n",
    "    def sendMsg_sts(self):\n",
    "        return self.sendAndRec('$MNSTS,1*F2\\r\\n', '')\n",
    "    def set"
   ]
  },
  {
   "cell_type": "code",
   "execution_count": 15,
   "metadata": {},
   "outputs": [],
   "source": [
    "test = turnTable3x()\n",
    "test.serial_open()"
   ]
  },
  {
   "cell_type": "code",
   "execution_count": 19,
   "metadata": {},
   "outputs": [
    {
     "name": "stdout",
     "output_type": "stream",
     "text": [
      "sendMsg: $MNMOD,0,0,0*8F\n",
      "\n"
     ]
    },
    {
     "data": {
      "text/plain": [
       "False"
      ]
     },
     "execution_count": 19,
     "metadata": {},
     "output_type": "execute_result"
    }
   ],
   "source": [
    "test.sendMsg_mod(0,0,0)"
   ]
  },
  {
   "cell_type": "code",
   "execution_count": 23,
   "metadata": {},
   "outputs": [
    {
     "name": "stdout",
     "output_type": "stream",
     "text": [
      "sendMsg: $MNPOS,0.0000,123.4567,345.6789*71\n",
      "\n"
     ]
    },
    {
     "data": {
      "text/plain": [
       "False"
      ]
     },
     "execution_count": 23,
     "metadata": {},
     "output_type": "execute_result"
    }
   ],
   "source": [
    "test.sendMsg_pos('0.0000',123.4567,345.6789)"
   ]
  },
  {
   "cell_type": "code",
   "execution_count": 27,
   "metadata": {},
   "outputs": [
    {
     "name": "stdout",
     "output_type": "stream",
     "text": [
      "sendMsg: $MNVEL,12.3456,-123.4567,10.0000*7F\n",
      "\n"
     ]
    },
    {
     "data": {
      "text/plain": [
       "False"
      ]
     },
     "execution_count": 27,
     "metadata": {},
     "output_type": "execute_result"
    }
   ],
   "source": [
    "test.sendMsg_vel(12.3456,-123.4567,'10.0000')"
   ]
  },
  {
   "cell_type": "code",
   "execution_count": 36,
   "metadata": {},
   "outputs": [
    {
     "name": "stdout",
     "output_type": "stream",
     "text": [
      "sendMsg: $MNACC,10.0000,20.0000,30.0000*D6\n",
      "\n"
     ]
    },
    {
     "data": {
      "text/plain": [
       "False"
      ]
     },
     "execution_count": 36,
     "metadata": {},
     "output_type": "execute_result"
    }
   ],
   "source": [
    "test.sendMsg_acc('10.0000','20.0000','30.0000')"
   ]
  },
  {
   "cell_type": "code",
   "execution_count": 35,
   "metadata": {},
   "outputs": [
    {
     "data": {
      "text/plain": [
       "'0x7f'"
      ]
     },
     "execution_count": 35,
     "metadata": {},
     "output_type": "execute_result"
    }
   ],
   "source": [
    "hex(test.sumCheckAscii('MNVEL,12.3456,-123.4567,10.0000'))"
   ]
  },
  {
   "cell_type": "code",
   "execution_count": 34,
   "metadata": {},
   "outputs": [
    {
     "data": {
      "text/plain": [
       "'0x3e'"
      ]
     },
     "execution_count": 34,
     "metadata": {},
     "output_type": "execute_result"
    }
   ],
   "source": [
    "hex(test.sumCheckAscii('ASVEL,12.3456,-123.4567,10.0000,OK'))"
   ]
  },
  {
   "cell_type": "code",
   "execution_count": 12,
   "metadata": {},
   "outputs": [
    {
     "data": {
      "text/plain": [
       "False"
      ]
     },
     "execution_count": 12,
     "metadata": {},
     "output_type": "execute_result"
    }
   ],
   "source": [
    "rec = b'$ASSTP,OK*51\\r\\n$ASSTP,OK*51\\r\\n$ASSTP,OK*51\\r\\n$ASSTP,OK*51\\r\\n$ASSTP,OK*51\\r\\n$ASSTP,OK*51\\r\\n$ASSTP,OK*51\\r\\n$ASSTP,OK*51\\r\\n$ASSTP,OK*51\\r\\n$ASSTP,OK*51\\r\\n$ASSTP,OK*51\\r\\n$ASSTP,OK*51\\r\\n$ASSTP,OK*51\\r\\n$ASSTP,OK*51\\r\\n$ASSTP,OK*51\\r\\n$ASSTP,OK*51\\r\\n$ASSTP,OK*51\\r\\n$ASSTP,OK*51\\r\\n$ASSTP,OK*51\\r\\n$ASSTP,OK*51\\r\\n$ASSTP,OK*51\\r\\n$ASSTP,OK*51\\r\\n$ASSTP,OK*51\\r\\n$ASSTP,OK*51\\r\\n$ASSTP,OK*51\\r\\n$ASSTP,OK*51\\r\\n$ASSTP,OK*51\\r\\n$ASSTP,OK*51\\r\\n'\n",
    "recMsg = '$ASCHK,OK*30'\n",
    "recMsg in rec.decode()"
   ]
  }
 ],
 "metadata": {
  "kernelspec": {
   "display_name": "base",
   "language": "python",
   "name": "python3"
  },
  "language_info": {
   "codemirror_mode": {
    "name": "ipython",
    "version": 3
   },
   "file_extension": ".py",
   "mimetype": "text/x-python",
   "name": "python",
   "nbconvert_exporter": "python",
   "pygments_lexer": "ipython3",
   "version": "3.11.7"
  }
 },
 "nbformat": 4,
 "nbformat_minor": 2
}
