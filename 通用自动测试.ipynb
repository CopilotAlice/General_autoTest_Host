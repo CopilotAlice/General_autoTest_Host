{
 "cells": [
  {
   "cell_type": "code",
   "execution_count": 7,
   "metadata": {},
   "outputs": [],
   "source": [
    "import numpy as np \n",
    "import pandas as pd \n",
    "import matplotlib.pyplot as plt \n",
    "from scipy import signal\n",
    "import time\n",
    "import datetime\n",
    "import serial\n",
    "from scipy.fftpack import fft,ifft\n",
    "from matplotlib.pylab import mpl\n",
    "import struct\n",
    "import os\n",
    "\n",
    "mpl.rcParams['font.sans-serif'] = ['SimHei']\n",
    "mpl.rcParams['axes.unicode_minus'] = False"
   ]
  },
  {
   "cell_type": "code",
   "execution_count": 5,
   "metadata": {},
   "outputs": [],
   "source": [
    "!python.exe -m PyQt5.uic.pyuic Automated_testing.ui -o Automated_testing.py"
   ]
  },
  {
   "cell_type": "code",
   "execution_count": null,
   "metadata": {},
   "outputs": [],
   "source": [
    "def open_power(self):\n",
    "    # serial_com = self.combox_power_com.currentText()\n",
    "    serials = serial.Serial(serial_com, 9600)\n",
    "    serials.write('{\\\"A01\\\":110000}'.encode())\n",
    "    serials.close()\n",
    "        \n",
    "def close_power(self):\n",
    "    # serial_com = self.combox_power_com.currentText()\n",
    "    serials = serial.Serial(serial_com, 9600)\n",
    "    serials.write('{\\\"A01\\\":100000}'.encode())\n",
    "    serials.close()   \n"
   ]
  },
  {
   "cell_type": "code",
   "execution_count": 25,
   "metadata": {},
   "outputs": [
    {
     "data": {
      "text/plain": [
       "14"
      ]
     },
     "execution_count": 25,
     "metadata": {},
     "output_type": "execute_result"
    }
   ],
   "source": [
    "try:\n",
    "    serials.close()\n",
    "    serials = serial.Serial('com2', 9600)\n",
    "except:\n",
    "    serials = serial.Serial('com2', 9600)\n",
    "serials.write('{\\\"A04\\\":100000}'.encode())"
   ]
  },
  {
   "cell_type": "code",
   "execution_count": 41,
   "metadata": {},
   "outputs": [],
   "source": [
    "try:\n",
    "    serials.close()\n",
    "    serials = serial.Serial('com2', 9600)\n",
    "except:\n",
    "    serials = serial.Serial('com2', 9600)\n",
    "# serials.write('{\\\"A01\\\":110000}'.encode())\n",
    "# serials.write('{\\\"A01\\\":100000}'.encode())\n",
    "for j in range(3):\n",
    "    for i in range(4):\n",
    "        k = i+1\n",
    "        serials.write(('{\\\"A0%s\\\":110000}'%k).encode())\n",
    "        time.sleep(0.1*j+0.01)\n",
    "    for i in range(4):\n",
    "        k = i+1\n",
    "        serials.write(('{\\\"A0%s\\\":100000}'%k).encode())\n",
    "        time.sleep(0.1*j+0.01)\n",
    "serials.close()   "
   ]
  },
  {
   "cell_type": "code",
   "execution_count": 8,
   "metadata": {},
   "outputs": [
    {
     "data": {
      "text/plain": [
       "str"
      ]
     },
     "execution_count": 8,
     "metadata": {},
     "output_type": "execute_result"
    }
   ],
   "source": [
    "type('asd')"
   ]
  },
  {
   "cell_type": "code",
   "execution_count": 11,
   "metadata": {},
   "outputs": [
    {
     "ename": "ValueError",
     "evalue": "'odds' is not in list",
     "output_type": "error",
     "traceback": [
      "\u001b[1;31m---------------------------------------------------------------------------\u001b[0m",
      "\u001b[1;31mValueError\u001b[0m                                Traceback (most recent call last)",
      "Cell \u001b[1;32mIn[11], line 2\u001b[0m\n\u001b[0;32m      1\u001b[0m lists \u001b[38;5;241m=\u001b[39m [\u001b[38;5;124m'\u001b[39m\u001b[38;5;124mnone\u001b[39m\u001b[38;5;124m'\u001b[39m,\u001b[38;5;124m'\u001b[39m\u001b[38;5;124modd\u001b[39m\u001b[38;5;124m'\u001b[39m,\u001b[38;5;124m'\u001b[39m\u001b[38;5;124mas\u001b[39m\u001b[38;5;124m'\u001b[39m]\n\u001b[1;32m----> 2\u001b[0m \u001b[43mlists\u001b[49m\u001b[38;5;241;43m.\u001b[39;49m\u001b[43mindex\u001b[49m\u001b[43m(\u001b[49m\u001b[38;5;124;43m'\u001b[39;49m\u001b[38;5;124;43modds\u001b[39;49m\u001b[38;5;124;43m'\u001b[39;49m\u001b[43m)\u001b[49m\n",
      "\u001b[1;31mValueError\u001b[0m: 'odds' is not in list"
     ]
    }
   ],
   "source": [
    "lists = ['none','odd','as']\n",
    "lists.index('odds')"
   ]
  },
  {
   "cell_type": "code",
   "execution_count": 37,
   "metadata": {},
   "outputs": [
    {
     "name": "stdout",
     "output_type": "stream",
     "text": [
      "全局变量：#\trulehead\t<\n",
      "全局变量：#\trulehead\t<\n"
     ]
    }
   ],
   "source": [
    "rules_lists_format = 'xcbB?hHiIlLqQfdspPtyY'\n",
    "# 主机规则\n",
    "with open('./解算规则/00_惯导通用协议.txt', 'r',encoding='gb2312') as file:\n",
    "# with open('./解算规则/02_激光惯导_长沙挂飞.txt', 'r',encoding='gb2312') as file:\n",
    "    rules = file.read()\n",
    "    \n",
    "rules_lists_format = 'xcbB?hHiIlLqQfdspPtyY'\n",
    "\n",
    "decode_rule_list = []    # 解算规则\n",
    "decode_save_list = []    # 是否保存\n",
    "decode_para_list = []    # 系数\n",
    "decode_titl_list = []    # 标题\n",
    "decode_cout_list = []    # 排序序号\n",
    "decode_sort_list = []    # 排序后列表\n",
    "decode_header_list = []    # 大小端\n",
    "\n",
    "default_header = '>'     # 默认大小端\n",
    "\n",
    "decode_rule = []\n",
    "decode_save = []\n",
    "decode_para = []\n",
    "decode_titl = []\n",
    "decode_cout = []\n",
    "for lines in rules.split('\\n'):\n",
    "    if lines.startswith('#'):\n",
    "        if len(lines.split())<3:\n",
    "            continue\n",
    "        elif lines.split()[1].lower()=='rulehead':\n",
    "            if len(decode_rule)==0:\n",
    "                continue\n",
    "            else:\n",
    "                decode_rule_list.append(decode_rule)\n",
    "                decode_save_list.append(decode_save)\n",
    "                decode_para_list.append(decode_para)\n",
    "                decode_titl_list.append(decode_titl)\n",
    "                decode_cout_list.append(decode_cout)\n",
    "                decode_header_list.append(default_header)\n",
    "                \n",
    "                decode_rule = []\n",
    "                decode_save = []\n",
    "                decode_para = []\n",
    "                decode_titl = []\n",
    "                decode_cout = []\n",
    "            default_header = lines.split()[2]\n",
    "                \n",
    "            print('全局变量：{}'.format(lines))\n",
    "        else:\n",
    "            continue\n",
    "            \n",
    "    elif len(lines)==0 | len(lines.split())==0:\n",
    "        continue\n",
    "    elif len(lines.split())<5:\n",
    "        print('错误长度<{}>'.format(lines))\n",
    "        continue\n",
    "    elif lines.split()[0] not in rules_lists_format:\n",
    "        print('不在解算规则范围内<{}>'.format(lines))\n",
    "        continue\n",
    "    else:\n",
    "        lines_split = lines.split()\n",
    "        decode_rule.append(lines_split[0])\n",
    "        decode_save.append(lines_split[1])\n",
    "        decode_para.append(lines_split[2])\n",
    "        decode_titl.append(lines_split[3])\n",
    "        decode_cout.append(lines_split[4])\n",
    "        \n",
    "if len(decode_rule)!=0:\n",
    "    decode_rule_list.append(decode_rule)\n",
    "    decode_save_list.append(decode_save)\n",
    "    decode_para_list.append(decode_para)\n",
    "    decode_titl_list.append(decode_titl)\n",
    "    decode_cout_list.append(decode_cout)\n",
    "    decode_header_list.append(default_header)\n",
    "    \n",
    "decode_sort_list = []\n",
    "for test_order in decode_cout_list:\n",
    "    max_count = 0\n",
    "    sorted_list = []\n",
    "    for i in range(len(test_order)):\n",
    "        if str(i) in test_order:\n",
    "            continue\n",
    "        else:\n",
    "            max_count = i\n",
    "            break\n",
    "    for i in range(len(test_order)):\n",
    "        if test_order[i]=='N':\n",
    "            sorted_list.append(str(max_count))\n",
    "            max_count +=1\n",
    "        else:\n",
    "            sorted_list.append(test_order[i])\n",
    "    decode_sort_list.append(sorted_list)"
   ]
  },
  {
   "cell_type": "code",
   "execution_count": 9,
   "metadata": {},
   "outputs": [
    {
     "name": "stdout",
     "output_type": "stream",
     "text": [
      ">BBBBHhIffffffhhhhhxxxxxxxxxxxxxxxxBB\n",
      "<BBBHIddddddBxxxxBB\n",
      "<BBBHIdddiiiiiiBHHBB\n"
     ]
    }
   ],
   "source": [
    "for i in range(len(decode_header_list)):\n",
    "    decode_bit_list = []\n",
    "    print(decode_header_list[i]+''.join(decode_rule_list[i]))"
   ]
  },
  {
   "cell_type": "code",
   "execution_count": 17,
   "metadata": {},
   "outputs": [
    {
     "data": {
      "text/plain": [
       "['0',\n",
       " '1',\n",
       " '2',\n",
       " '3',\n",
       " '4',\n",
       " '5',\n",
       " '6',\n",
       " '7',\n",
       " '8',\n",
       " '9',\n",
       " '10',\n",
       " '11',\n",
       " '12',\n",
       " '13',\n",
       " '14',\n",
       " '15',\n",
       " '16',\n",
       " '17']"
      ]
     },
     "execution_count": 17,
     "metadata": {},
     "output_type": "execute_result"
    }
   ],
   "source": [
    "decode_sort_list[1]"
   ]
  },
  {
   "cell_type": "code",
   "execution_count": 17,
   "metadata": {},
   "outputs": [],
   "source": [
    "decode_rule_list=[['B', 'B', 'B', 'B', 'H', 'h', 'I', 'f', 'f', 'f', 'f', 'f', 'f', 'h', 'h', 'h', 'h', 'h', 'x', 'x', 'x', 'x', 'x', 'x', 'x', 'x', 'x', 'x', 'x', 'x', 'x', 'x', 'x', 'x', 'B', 'B', 'B', 'B', 'B', 'H', 'I', 'd', 'd', 'd', 'd', 'd', 'd', 'B', 'x', 'x', 'x', 'x', 'B', 'B', 'B', 'B', 'B', 'H', 'I', 'd', 'd', 'd', 'i', 'i', 'i', 'i', 'i', 'i', 'B', 'H', 'H', 'B', 'B']]\n",
    "decode_save_list=[['0', '0', '0', '0', '0', '1', '1', '1', '1', '1', '1', '1', '1', '1', '1', '1', '1', '1', '0', '0', '0', '0', '0', '0', '0', '0', '0', '0', '0', '0', '0', '0', '0', '0', '0', '0', '0', '0', '0', '0', '0', '0', '0', '0', '0', '0', '0', '0', '0', '0', '0', '0', '0', '0', '0', '0', '0', '1', '1', '1', '1', '1', '1', '1', '1', '1', '1', '1', '1', '0', '0', '0', '0']]\n",
    "decode_para_list=[['1', '1', '1', '1', '1', '0.0625', '0.05', '41256000', '41256000', '41256000', '200', '200', '200', '0.0625', '0.0625', '0.0625', '0.0625', '0.0625', '1', '1', '1', '1', '1', '1', '1', '1', '1', '1', '1', '1', '1', '1', '1', '1', '1', '1', '1', '1', '1', '1', '1', '1', '1', '1', '1', '1', '1', '1', '1', '1', '1', '1', '1', '1', '1', '1', '1', '1', '0.001', '57.3', '57.3', '1', '0.0001', '0.0001', '0.0001', '0.000001', '0.000001', '0.000001', '1', '1', '1', '1', '1']]\n",
    "decode_titl_list=[['0x55', '0xAA', '校验和', 'PPS到来时间差', '状态字', 'z加表温度', '5ms计数', 'Gx', 'Gy', 'Gz', 'Ax', 'Ay', 'Az', 'x陀螺 温度', 'y陀螺温度', 'z陀螺温度', 'x加表温度', 'y加表温度', '保留', '保留', '保留', '保留', '保留', '保留', '保留', '保留', '保留', '保留', '保留', '保留', '保留', '保留', '保留', '保留', '0xC0', '0xFF', '0x66', '0x99', '校验和', 'GPS周', 'GPS毫秒', 'ECEF坐标系位置X', 'ECEF坐标 系位置Y', 'ECEF坐标系位置Z', 'ECEF坐标系速度X', 'ECEF坐标系速度Y', 'ECEF坐标系速度Z', '卫星数', '保留', '保留', '保留', '保留', '0xC0', '0xFF', '0xAA', '0xBB', '校验和', '周', '秒', '纬度', '经度', '高度', '东向速度x', '北向速度y', '天向速度z', '俯仰角x', '滚转角y', '偏航角z','状态字', '保留', '保留', '0xC0', '0xFF']]\n",
    "decode_cout_list=[['N', 'N', 'N', 'N', 'N', '12', '0', '1', '2', '3', '4', '5', '6', '7', '8', '9', '10', '11', 'N', 'N', 'N', 'N', 'N', 'N', 'N', 'N', 'N', 'N', 'N', 'N', 'N', 'N', 'N', 'N', 'N', 'N', 'N', 'N', 'N', 'N', 'N', 'N', 'N', 'N', 'N', 'N', 'N', 'N', 'N', 'N', 'N', 'N', 'N', 'N', 'N', 'N', 'N', 'N', 'N', 'N', 'N', 'N', 'N', 'N', 'N', 'N', 'N', 'N', 'N', 'N', 'N', 'N', 'N']]\n",
    "decode_sort_list=[['13', '14', '15', '16', '17', '12', '0', '1', '2', '3', '4', '5', '6', '7', '8', '9', '10', '11', '18', '19', '20', '21', '22', '23', '24', '25', '26', '27', '28', '29', '30', '31', '32', '33', '34', '35', '36', '37', '38', '39', '40', '41', '42', '43', '44', '45', '46', '47', '48', '49', '50', '51', '52', '53', '54', '55', '56', '57', '58', '59', '60', '61', '62', '63', '64', '65', '66', '67', '68', '69', '70', '71', '72']]\n",
    "decode_header_list=['>', '<', '<']\n",
    "\n",
    "decode_test_list = decode_para_list[0]\n",
    "decode_rule_list = decode_rule_list[0]\n",
    "decode_save_list = decode_save_list[0]\n",
    "decode_para_list = decode_para_list[0]\n",
    "decode_sort_list = decode_sort_list[0]"
   ]
  },
  {
   "cell_type": "code",
   "execution_count": 36,
   "metadata": {},
   "outputs": [
    {
     "ename": "IndexError",
     "evalue": "list index out of range",
     "output_type": "error",
     "traceback": [
      "\u001b[1;31m---------------------------------------------------------------------------\u001b[0m",
      "\u001b[1;31mIndexError\u001b[0m                                Traceback (most recent call last)",
      "Cell \u001b[1;32mIn[36], line 3\u001b[0m\n\u001b[0;32m      1\u001b[0m title_list \u001b[38;5;241m=\u001b[39m []\n\u001b[0;32m      2\u001b[0m \u001b[38;5;28;01mfor\u001b[39;00m i \u001b[38;5;129;01min\u001b[39;00m \u001b[38;5;28mrange\u001b[39m(\u001b[38;5;28mlen\u001b[39m(decode_save_list)):\n\u001b[1;32m----> 3\u001b[0m     title_list\u001b[38;5;241m+\u001b[39m\u001b[38;5;241m=\u001b[39m[decode_titl_list[decode_sort_list\u001b[38;5;241m.\u001b[39mindex(\u001b[38;5;28mstr\u001b[39m(j))] \u001b[38;5;28;01mfor\u001b[39;00m j \u001b[38;5;129;01min\u001b[39;00m \u001b[38;5;28mrange\u001b[39m(\u001b[38;5;28mlen\u001b[39m(decode_titl_list)) ]\n",
      "Cell \u001b[1;32mIn[36], line 3\u001b[0m, in \u001b[0;36m<listcomp>\u001b[1;34m(.0)\u001b[0m\n\u001b[0;32m      1\u001b[0m title_list \u001b[38;5;241m=\u001b[39m []\n\u001b[0;32m      2\u001b[0m \u001b[38;5;28;01mfor\u001b[39;00m i \u001b[38;5;129;01min\u001b[39;00m \u001b[38;5;28mrange\u001b[39m(\u001b[38;5;28mlen\u001b[39m(decode_save_list)):\n\u001b[1;32m----> 3\u001b[0m     title_list\u001b[38;5;241m+\u001b[39m\u001b[38;5;241m=\u001b[39m[\u001b[43mdecode_titl_list\u001b[49m\u001b[43m[\u001b[49m\u001b[43mdecode_sort_list\u001b[49m\u001b[38;5;241;43m.\u001b[39;49m\u001b[43mindex\u001b[49m\u001b[43m(\u001b[49m\u001b[38;5;28;43mstr\u001b[39;49m\u001b[43m(\u001b[49m\u001b[43mj\u001b[49m\u001b[43m)\u001b[49m\u001b[43m)\u001b[49m\u001b[43m]\u001b[49m \u001b[38;5;28;01mfor\u001b[39;00m j \u001b[38;5;129;01min\u001b[39;00m \u001b[38;5;28mrange\u001b[39m(\u001b[38;5;28mlen\u001b[39m(decode_titl_list)) ]\n",
      "\u001b[1;31mIndexError\u001b[0m: list index out of range"
     ]
    }
   ],
   "source": [
    "title_list = []\n",
    "for i in range(len(decode_save_list)):\n",
    "    title_list+=[decode_titl_list[decode_sort_list.index(str(j))] for j in range(len(decode_titl_list)) if decode_save_list[decode_sort_list.index(str(j))]=='1']\n",
    "    "
   ]
  },
  {
   "cell_type": "code",
   "execution_count": 45,
   "metadata": {},
   "outputs": [
    {
     "data": {
      "text/plain": [
       "25"
      ]
     },
     "execution_count": 45,
     "metadata": {},
     "output_type": "execute_result"
    }
   ],
   "source": [
    "counts = 0\n",
    "for i in decode_save_list:\n",
    "    for j in i:\n",
    "        if j=='1':\n",
    "            counts+=1\n",
    "counts\n"
   ]
  },
  {
   "cell_type": "code",
   "execution_count": 46,
   "metadata": {},
   "outputs": [
    {
     "data": {
      "text/plain": [
       "25"
      ]
     },
     "execution_count": 46,
     "metadata": {},
     "output_type": "execute_result"
    }
   ],
   "source": [
    "len(title_list)"
   ]
  },
  {
   "cell_type": "code",
   "execution_count": 41,
   "metadata": {},
   "outputs": [
    {
     "data": {
      "text/plain": [
       "['5ms计数',\n",
       " 'Gx',\n",
       " 'Gy',\n",
       " 'Gz',\n",
       " 'Ax',\n",
       " 'Ay',\n",
       " 'Az',\n",
       " 'x陀螺温度',\n",
       " 'y陀螺温度',\n",
       " 'z陀螺温度',\n",
       " 'x加表温度',\n",
       " 'y加表温度',\n",
       " 'z加表温度',\n",
       " '周',\n",
       " '秒',\n",
       " '纬度',\n",
       " '经度',\n",
       " '高度',\n",
       " '东向速度x',\n",
       " '北向速度y',\n",
       " '天向速度z',\n",
       " '俯仰角x',\n",
       " '滚转角y',\n",
       " '偏航角z',\n",
       " '状态字']"
      ]
     },
     "execution_count": 41,
     "metadata": {},
     "output_type": "execute_result"
    }
   ],
   "source": [
    "title_list = []\n",
    "for i in range(len(decode_save_list)):\n",
    "    title_list+=[decode_titl_list[i][decode_sort_list[i].index(str(j))] for j in range(len(decode_titl_list[i])) if decode_save_list[i][decode_sort_list[i].index(str(j))]=='1']\n",
    "title_list"
   ]
  },
  {
   "cell_type": "code",
   "execution_count": 27,
   "metadata": {},
   "outputs": [
    {
     "name": "stdout",
     "output_type": "stream",
     "text": [
      "1\n",
      "0.05\n"
     ]
    }
   ],
   "source": [
    "print(decode_save_list[decode_sort_list.index('0')])\n",
    "print(decode_para_list[decode_sort_list.index('0')])"
   ]
  },
  {
   "cell_type": "code",
   "execution_count": 20,
   "metadata": {},
   "outputs": [
    {
     "data": {
      "text/plain": [
       "[0.00390625,\n",
       " 0.0025000000000000005,\n",
       " 1702057536000000.0,\n",
       " 1702057536000000.0,\n",
       " 1702057536000000.0,\n",
       " 40000.0,\n",
       " 40000.0,\n",
       " 40000.0,\n",
       " 0.00390625,\n",
       " 0.00390625,\n",
       " 0.00390625,\n",
       " 0.00390625,\n",
       " 0.00390625,\n",
       " 1.0,\n",
       " 1e-06,\n",
       " 3283.2899999999995,\n",
       " 3283.2899999999995,\n",
       " 1.0,\n",
       " 1e-08,\n",
       " 1e-08,\n",
       " 1e-08,\n",
       " 1e-12,\n",
       " 1e-12,\n",
       " 1e-12,\n",
       " 1.0]"
      ]
     },
     "execution_count": 20,
     "metadata": {},
     "output_type": "execute_result"
    }
   ],
   "source": [
    "[float(decode_para_list[i])*float(decode_test_list[i]) for i in range(len(decode_sort_list)) if decode_save_list[i]=='1']"
   ]
  },
  {
   "cell_type": "code",
   "execution_count": null,
   "metadata": {},
   "outputs": [],
   "source": []
  },
  {
   "cell_type": "code",
   "execution_count": 10,
   "metadata": {},
   "outputs": [
    {
     "name": "stdout",
     "output_type": "stream",
     "text": [
      "head:>\trule:B\tsave:0\tpara:1\ttitl:0x55\tcout:N\tsort:13\n",
      "head:>\trule:B\tsave:0\tpara:1\ttitl:0xAA\tcout:N\tsort:14\n",
      "head:>\trule:B\tsave:0\tpara:1\ttitl:校验和\tcout:N\tsort:15\n",
      "head:>\trule:B\tsave:0\tpara:1\ttitl:PPS到来时间差\tcout:N\tsort:16\n",
      "head:>\trule:H\tsave:0\tpara:1\ttitl:状态字\tcout:N\tsort:17\n",
      "head:>\trule:h\tsave:1\tpara:0.0625\ttitl:z加表温度\tcout:12\tsort:12\n",
      "head:>\trule:I\tsave:1\tpara:0.05\ttitl:5ms计数\tcout:0\tsort:0\n",
      "head:>\trule:f\tsave:1\tpara:41256000\ttitl:Gx\tcout:1\tsort:1\n",
      "head:>\trule:f\tsave:1\tpara:41256000\ttitl:Gy\tcout:2\tsort:2\n",
      "head:>\trule:f\tsave:1\tpara:41256000\ttitl:Gz\tcout:3\tsort:3\n",
      "head:>\trule:f\tsave:1\tpara:200\ttitl:Ax\tcout:4\tsort:4\n",
      "head:>\trule:f\tsave:1\tpara:200\ttitl:Ay\tcout:5\tsort:5\n",
      "head:>\trule:f\tsave:1\tpara:200\ttitl:Az\tcout:6\tsort:6\n",
      "head:>\trule:h\tsave:1\tpara:0.0625\ttitl:x陀螺 温度\tcout:7\tsort:7\n",
      "head:>\trule:h\tsave:1\tpara:0.0625\ttitl:y陀螺温度\tcout:8\tsort:8\n",
      "head:>\trule:h\tsave:1\tpara:0.0625\ttitl:z陀螺温度\tcout:9\tsort:9\n",
      "head:>\trule:h\tsave:1\tpara:0.0625\ttitl:x加表温度\tcout:10\tsort:10\n",
      "head:>\trule:h\tsave:1\tpara:0.0625\ttitl:y加表温度\tcout:11\tsort:11\n",
      "head:>\trule:x\tsave:0\tpara:1\ttitl:保留\tcout:N\tsort:18\n",
      "head:>\trule:x\tsave:0\tpara:1\ttitl:保留\tcout:N\tsort:19\n",
      "head:>\trule:x\tsave:0\tpara:1\ttitl:保留\tcout:N\tsort:20\n",
      "head:>\trule:x\tsave:0\tpara:1\ttitl:保留\tcout:N\tsort:21\n",
      "head:>\trule:x\tsave:0\tpara:1\ttitl:保留\tcout:N\tsort:22\n",
      "head:>\trule:x\tsave:0\tpara:1\ttitl:保留\tcout:N\tsort:23\n",
      "head:>\trule:x\tsave:0\tpara:1\ttitl:保留\tcout:N\tsort:24\n",
      "head:>\trule:x\tsave:0\tpara:1\ttitl:保留\tcout:N\tsort:25\n",
      "head:>\trule:x\tsave:0\tpara:1\ttitl:保留\tcout:N\tsort:26\n",
      "head:>\trule:x\tsave:0\tpara:1\ttitl:保留\tcout:N\tsort:27\n",
      "head:>\trule:x\tsave:0\tpara:1\ttitl:保留\tcout:N\tsort:28\n",
      "head:>\trule:x\tsave:0\tpara:1\ttitl:保留\tcout:N\tsort:29\n",
      "head:>\trule:x\tsave:0\tpara:1\ttitl:保留\tcout:N\tsort:30\n",
      "head:>\trule:x\tsave:0\tpara:1\ttitl:保留\tcout:N\tsort:31\n",
      "head:>\trule:x\tsave:0\tpara:1\ttitl:保留\tcout:N\tsort:32\n",
      "head:>\trule:x\tsave:0\tpara:1\ttitl:保留\tcout:N\tsort:33\n",
      "head:>\trule:B\tsave:0\tpara:1\ttitl:0xC0\tcout:N\tsort:34\n",
      "head:>\trule:B\tsave:0\tpara:1\ttitl:0xFF\tcout:N\tsort:35\n",
      "head:>\trule:B\tsave:0\tpara:1\ttitl:0x66\tcout:N\tsort:36\n",
      "head:>\trule:B\tsave:0\tpara:1\ttitl:0x99\tcout:N\tsort:37\n",
      "head:>\trule:B\tsave:0\tpara:1\ttitl:校验和\tcout:N\tsort:38\n",
      "head:>\trule:H\tsave:0\tpara:1\ttitl:GPS周\tcout:N\tsort:39\n",
      "head:>\trule:I\tsave:0\tpara:1\ttitl:GPS毫秒\tcout:N\tsort:40\n",
      "head:>\trule:d\tsave:0\tpara:1\ttitl:ECEF坐标系位置X\tcout:N\tsort:41\n",
      "head:>\trule:d\tsave:0\tpara:1\ttitl:ECEF坐标 系位置Y\tcout:N\tsort:42\n",
      "head:>\trule:d\tsave:0\tpara:1\ttitl:ECEF坐标系位置Z\tcout:N\tsort:43\n",
      "head:>\trule:d\tsave:0\tpara:1\ttitl:ECEF坐标系速度X\tcout:N\tsort:44\n",
      "head:>\trule:d\tsave:0\tpara:1\ttitl:ECEF坐标系速度Y\tcout:N\tsort:45\n",
      "head:>\trule:d\tsave:0\tpara:1\ttitl:ECEF坐标系速度Z\tcout:N\tsort:46\n",
      "head:>\trule:B\tsave:0\tpara:1\ttitl:卫星数\tcout:N\tsort:47\n",
      "head:>\trule:x\tsave:0\tpara:1\ttitl:保留\tcout:N\tsort:48\n",
      "head:>\trule:x\tsave:0\tpara:1\ttitl:保留\tcout:N\tsort:49\n",
      "head:>\trule:x\tsave:0\tpara:1\ttitl:保留\tcout:N\tsort:50\n",
      "head:>\trule:x\tsave:0\tpara:1\ttitl:保留\tcout:N\tsort:51\n",
      "head:>\trule:B\tsave:0\tpara:1\ttitl:0xC0\tcout:N\tsort:52\n",
      "head:>\trule:B\tsave:0\tpara:1\ttitl:0xFF\tcout:N\tsort:53\n",
      "head:>\trule:B\tsave:0\tpara:1\ttitl:0xAA\tcout:N\tsort:54\n",
      "head:>\trule:B\tsave:0\tpara:1\ttitl:0xBB\tcout:N\tsort:55\n",
      "head:>\trule:B\tsave:0\tpara:1\ttitl:校验和\tcout:N\tsort:56\n",
      "head:>\trule:H\tsave:1\tpara:1\ttitl:周\tcout:N\tsort:57\n",
      "head:>\trule:I\tsave:1\tpara:0.001\ttitl:秒\tcout:N\tsort:58\n",
      "head:>\trule:d\tsave:1\tpara:57.3\ttitl:纬度\tcout:N\tsort:59\n",
      "head:>\trule:d\tsave:1\tpara:57.3\ttitl:经度\tcout:N\tsort:60\n",
      "head:>\trule:d\tsave:1\tpara:1\ttitl:高度\tcout:N\tsort:61\n",
      "head:>\trule:i\tsave:1\tpara:0.0001\ttitl:东向速度x\tcout:N\tsort:62\n",
      "head:>\trule:i\tsave:1\tpara:0.0001\ttitl:北向速度y\tcout:N\tsort:63\n",
      "head:>\trule:i\tsave:1\tpara:0.0001\ttitl:天向速度z\tcout:N\tsort:64\n",
      "head:>\trule:i\tsave:1\tpara:0.000001\ttitl:俯仰角x\tcout:N\tsort:65\n",
      "head:>\trule:i\tsave:1\tpara:0.000001\ttitl:滚转角y\tcout:N\tsort:66\n",
      "head:>\trule:i\tsave:1\tpara:0.000001\ttitl:偏航角z\tcout:N\tsort:67\n",
      "head:>\trule:B\tsave:1\tpara:1\ttitl:状态字\tcout:N\tsort:68\n",
      "head:>\trule:H\tsave:0\tpara:1\ttitl:保留\tcout:N\tsort:69\n",
      "head:>\trule:H\tsave:0\tpara:1\ttitl:保留\tcout:N\tsort:70\n",
      "head:>\trule:B\tsave:0\tpara:1\ttitl:0xC0\tcout:N\tsort:71\n",
      "head:>\trule:B\tsave:0\tpara:1\ttitl:0xFF\tcout:N\tsort:72\n"
     ]
    }
   ],
   "source": [
    "for i in range(len(decode_rule_list)):\n",
    "    for j in range(len(decode_rule_list[i])):\n",
    "        print('head:{}\\trule:{}\\tsave:{}\\tpara:{}\\ttitl:{}\\tcout:{}\\tsort:{}'.format(decode_header_list[i],decode_rule_list[i][j],decode_save_list[i][j],decode_para_list[i][j],decode_titl_list[i][j],decode_cout_list[i][j],decode_sort_list[i][j]))"
   ]
  },
  {
   "cell_type": "code",
   "execution_count": 14,
   "metadata": {},
   "outputs": [
    {
     "name": "stdout",
     "output_type": "stream",
     "text": [
      "102840\n"
     ]
    }
   ],
   "source": [
    "import datetime\n",
    "\n",
    "# 获取当前时间\n",
    "current_time = datetime.datetime.now()\n",
    "\n",
    "# 获取小时、分钟和秒，并将它们格式化为'00:00:00'的形式\n",
    "formatted_time = current_time.strftime('%H%M%S')\n",
    "\n",
    "print(formatted_time)"
   ]
  },
  {
   "cell_type": "code",
   "execution_count": 13,
   "metadata": {},
   "outputs": [],
   "source": [
    "lists2 = [1,2,'None',4,3]\n",
    "lists2.remove('None')"
   ]
  },
  {
   "cell_type": "code",
   "execution_count": 14,
   "metadata": {},
   "outputs": [],
   "source": [
    "test = b'\\x55\\xaa\\xcc\\xdd'\n",
    "test_list = struct.unpack('>BBBB',test)"
   ]
  },
  {
   "cell_type": "code",
   "execution_count": 20,
   "metadata": {},
   "outputs": [
    {
     "data": {
      "text/plain": [
       "[85, 170, 204, 221]"
      ]
     },
     "execution_count": 20,
     "metadata": {},
     "output_type": "execute_result"
    }
   ],
   "source": [
    "bit_data = []\n",
    "bit_data+=test_list\n",
    "bit_data"
   ]
  },
  {
   "cell_type": "code",
   "execution_count": 4,
   "metadata": {},
   "outputs": [],
   "source": [
    "select_plan_name = '01_自动测试'\n",
    "plan_rule_name = './自动规则/{}.txt'.format(select_plan_name)\n",
    "plan_files = pd.read_csv(plan_rule_name,sep='\\\\s+',header=None,encoding='gb2312')"
   ]
  },
  {
   "cell_type": "code",
   "execution_count": 17,
   "metadata": {},
   "outputs": [
    {
     "data": {
      "text/plain": [
       "16"
      ]
     },
     "execution_count": 17,
     "metadata": {},
     "output_type": "execute_result"
    }
   ],
   "source": [
    "len('           -2640')"
   ]
  },
  {
   "cell_type": "code",
   "execution_count": 14,
   "metadata": {},
   "outputs": [
    {
     "data": {
      "text/plain": [
       "'11.111111       '"
      ]
     },
     "execution_count": 14,
     "metadata": {},
     "output_type": "execute_result"
    }
   ],
   "source": [
    "str(round(11.11111111,6)).ljust(16,' ')"
   ]
  },
  {
   "cell_type": "code",
   "execution_count": 22,
   "metadata": {},
   "outputs": [
    {
     "name": "stdout",
     "output_type": "stream",
     "text": [
      "['223329', '-53', '-33', '-414', '-0.00242252415', '-1.00062847', '-114.866783', '240', '240', '240', '6400', '6775', '6500', '0', '0', '0', '0', '0', '0', '0', '0']\n",
      "21\n"
     ]
    }
   ],
   "source": [
    "strings = '28108     \t           13.42\t          48.795\t          -43.03\t          0.0125\t       -296.7629\t         -0.9273\t            27.0\t         24.4375\t         21.5625'\n",
    "strings2 = '223329    \t             -53\t             -33\t            -414\t  -0.00242252415\t     -1.00062847\t     -114.866783\t   240\t   240\t   240\t  6400\t  6775\t  6500\t     0\t  0\t  0\t     0\t  0\t     0\t     0\t  0'\n",
    "\n",
    "print(strings2.split())\n",
    "print(len(strings2.split()))"
   ]
  },
  {
   "cell_type": "code",
   "execution_count": 25,
   "metadata": {},
   "outputs": [],
   "source": [
    "temp1 = string_lists[7]\n",
    "temp2 = string_lists[8]\n",
    "hz_temp = []\n",
    "for i in range(7):\n",
    "    hz_temp.append(strings.split()[i])\n",
    "for i in range(3):\n",
    "    hz_temp.append(temp1)\n",
    "for i in range(3):\n",
    "    hz_temp.append(temp2)\n",
    "for i in range(8):\n",
    "    hz_temp.append(0)\n",
    "    "
   ]
  },
  {
   "cell_type": "code",
   "execution_count": 29,
   "metadata": {},
   "outputs": [
    {
     "data": {
      "text/plain": [
       "[0, 1, 2, 3, 4, 5, 6, 7]"
      ]
     },
     "execution_count": 29,
     "metadata": {},
     "output_type": "execute_result"
    }
   ],
   "source": [
    "lists = [0,1,2,3,4,5,6,7,8,9]\n",
    "lists[:8]"
   ]
  },
  {
   "cell_type": "code",
   "execution_count": 37,
   "metadata": {},
   "outputs": [
    {
     "data": {
      "text/plain": [
       "115"
      ]
     },
     "execution_count": 37,
     "metadata": {},
     "output_type": "execute_result"
    }
   ],
   "source": [
    "len('244389    \t            2293\t            2335\t           -2658\t  -0.00251901103\t      116.796402\t     -1.00113273\t 0')"
   ]
  },
  {
   "cell_type": "code",
   "execution_count": 2,
   "metadata": {},
   "outputs": [
    {
     "data": {
      "text/plain": [
       "143.75"
      ]
     },
     "execution_count": 2,
     "metadata": {},
     "output_type": "execute_result"
    }
   ],
   "source": [
    "11.5/16*200"
   ]
  },
  {
   "cell_type": "code",
   "execution_count": 43,
   "metadata": {},
   "outputs": [
    {
     "name": "stdout",
     "output_type": "stream",
     "text": [
      "(0.9531347155570984,)\n",
      "(-295.767578125,)\n"
     ]
    }
   ],
   "source": [
    "print(struct.unpack('<f',b'\\xA3\\x00\\x74\\x3F'))\n",
    "print(struct.unpack('<f',b'\\x40\\xe2\\x93\\xc3'))"
   ]
  },
  {
   "cell_type": "code",
   "execution_count": 26,
   "metadata": {},
   "outputs": [
    {
     "name": "stdout",
     "output_type": "stream",
     "text": [
      "15.032585406376375\n"
     ]
    }
   ],
   "source": [
    "x = 0\n",
    "y = 11.578-0.01\n",
    "z = 9.6\n",
    "print(np.sqrt(x**2+y**2+z**2))"
   ]
  },
  {
   "cell_type": "code",
   "execution_count": 2,
   "metadata": {},
   "outputs": [],
   "source": [
    "test = b'\\x00\\x00\\x00\\x00\\x00\\x00\\xc0\\xff\\xaa\\xbb\\x00\\x00\\x00\\x00\\x00\\x00\\x00\\x00\\x00\\x00\\x00\\x00\\x00\\x00\\x00\\x00\\x00\\x00\\x00\\x00\\x00\\x00\\x00\\x00\\x00\\x00\\x00\\x00\\x00\\x00\\x00\\x00\\x00\\x00\\x00\\x00\\x00\\x00\\x00\\x00\\x00\\x00\\x00\\x00\\x00\\x00\\x00\\x00\\x00\\x00\\x00\\x00\\x00\\x00\\x00\\x00\\x00\\x00\\x00\\x00\\xc0\\xffU\\xaa\\xd4\\x00\\x00\\x009\\x9e\\x00\\x05\\xc2+3\\xf2>E4\\x7f\\xbd<3Y\\x08z8O\\x96\\xc88\\xe5\\x19)\\xbdI\\x11\\xf7\\x020\\x020\\x0209S:\\x1b\\x00\\x00\\x00\\x00\\x00\\x00\\x00\\x00\\x00\\x00\\x00\\x00\\x00\\xe0\\x00\\x00\\xc0\\xfff\\x99\\x00\\x00\\x00\\x00\\x00\\x00\\x00\\x00\\x00\\x00\\x00\\x00\\x00\\x00\\x00\\x00\\x00\\x00\\x00\\x00\\x00\\x00\\x00\\x00\\x00\\x00\\x00\\x00\\x00\\x00\\x00\\x00\\x00\\x00\\x00\\x00\\x00\\x00\\x00\\x00\\x00\\x00\\x00\\x00\\x00\\x00\\x00\\x00\\x00\\x00\\x00\\x00\\x00\\x00\\x00\\x00\\x00\\x00\\x00\\x00\\xc0\\xff\\xaa\\xbb\\x00\\x00\\x00\\x00\\x00\\x00\\x00\\x00\\x00\\x00\\x00\\x00\\x00\\x00\\x00\\x00\\x00\\x00\\x00\\x00\\x00\\x00\\x00\\x00\\x00\\x00\\x00\\x00\\x00\\x00\\x00\\x00\\x00\\x00\\x00\\x00\\x00\\x00\\x00\\x00\\x00\\x00\\x00\\x00\\x00\\x00\\x00\\x00\\x00\\x00\\x00\\x00\\x00\\x00\\x00\\x00\\x00\\x00\\x00\\x00\\xc0\\xff'"
   ]
  },
  {
   "cell_type": "code",
   "execution_count": 3,
   "metadata": {},
   "outputs": [
    {
     "name": "stdout",
     "output_type": "stream",
     "text": [
      "0.1000\t0.0100\t0.0010\t0.0001\n"
     ]
    }
   ],
   "source": [
    "data = [0.1,0.01,0.001,0.0001]\n",
    "data2 = '\\t'.join(['{:.4f}'.format(bits) for bits in data])\n",
    "print(data2)"
   ]
  },
  {
   "cell_type": "code",
   "execution_count": null,
   "metadata": {},
   "outputs": [],
   "source": [
    "def "
   ]
  }
 ],
 "metadata": {
  "kernelspec": {
   "display_name": "base",
   "language": "python",
   "name": "python3"
  },
  "language_info": {
   "codemirror_mode": {
    "name": "ipython",
    "version": 3
   },
   "file_extension": ".py",
   "mimetype": "text/x-python",
   "name": "python",
   "nbconvert_exporter": "python",
   "pygments_lexer": "ipython3",
   "version": "3.9.16"
  }
 },
 "nbformat": 4,
 "nbformat_minor": 2
}
