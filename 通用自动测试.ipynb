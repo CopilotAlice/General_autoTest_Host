{
 "cells": [
  {
   "cell_type": "code",
   "execution_count": 29,
   "metadata": {},
   "outputs": [],
   "source": [
    "import numpy as np \n",
    "import pandas as pd \n",
    "import matplotlib.pyplot as plt \n",
    "from scipy import signal\n",
    "import time\n",
    "import datetime\n",
    "import serial\n",
    "from scipy.fftpack import fft,ifft\n",
    "from matplotlib.pylab import mpl\n",
    "import struct\n",
    "import os\n",
    "import serial\n",
    "from pathlib import Path\n",
    "\n",
    "mpl.rcParams['font.sans-serif'] = ['SimHei']\n",
    "mpl.rcParams['axes.unicode_minus'] = False"
   ]
  },
  {
   "cell_type": "code",
   "execution_count": 3,
   "metadata": {},
   "outputs": [],
   "source": [
    "!python.exe -m PyQt5.uic.pyuic Automated_testingV1.6.ui -o Automated_testingV16.py"
   ]
  },
  {
   "cell_type": "code",
   "execution_count": 3,
   "metadata": {},
   "outputs": [],
   "source": [
    "!python.exe -m PyQt5.uic.pyuic Automated_testingV1.7.ui -o Automated_testingV17.py"
   ]
  },
  {
   "cell_type": "code",
   "execution_count": 58,
   "metadata": {},
   "outputs": [],
   "source": [
    "!python.exe -m PyQt5.uic.pyuic Automated_testing.ui -o Automated_testing.py"
   ]
  },
  {
   "cell_type": "code",
   "execution_count": 185,
   "metadata": {},
   "outputs": [],
   "source": [
    "import serial\n",
    "import time\n",
    "\n",
    "class turnTable3x:\n",
    "    def __init__(self):\n",
    "        self.list_debugMsg = []\n",
    "        self.list_showMsg = []\n",
    "        self.list_mode = [0, 0, 0]  # 运行模式\n",
    "        self.list_commandLocation = [0, 0, 0]\n",
    "        self.list_commandSpeed = [0, 0, 0]\n",
    "        self.list_commandAcceleration = [10, 10, 10]\n",
    "        self.flag_theading = False\n",
    "        self.serial = None\n",
    "        self.serial_com = 'COM1'\n",
    "        self.serial_check = False\n",
    "\n",
    "    def append_debugMsg(self, msg):\n",
    "        if isinstance(msg, list):\n",
    "            msg = ', '.join([str(i) for i in msg])\n",
    "        self.list_debugMsg.append(str(msg))\n",
    "        while len(self.list_debugMsg) > 10:\n",
    "            self.list_debugMsg.pop(0)\n",
    "\n",
    "    def append_showMsg(self, msg):\n",
    "        if isinstance(msg, list):\n",
    "            msg = ', '.join([str(i) for i in msg])\n",
    "        self.list_showMsg.append(str(msg))\n",
    "        while len(self.list_showMsg) > 100:\n",
    "            self.list_showMsg.pop(0)\n",
    "    # 调试信息清除\n",
    "    def append_msgClear(self):\n",
    "        self.list_showMsg.clear()\n",
    "        self.list_debugMsg.clear()\n",
    "    def serial_open(self):\n",
    "        if self.serial is None:\n",
    "            try:\n",
    "                self.serial = serial.Serial(self.serial_com, 115200)\n",
    "            except Exception as e:\n",
    "                self.append_debugMsg('开启串口异常: {}'.format(e))\n",
    "                self.serial = None\n",
    "        else:\n",
    "            try:\n",
    "                self.serial.close()\n",
    "                self.serial = None\n",
    "                self.serial = serial.Serial(self.serial_com, 115200)\n",
    "            except Exception as e:\n",
    "                self.append_debugMsg('重启串口异常: {}'.format(e))\n",
    "                self.serial = None\n",
    "\n",
    "    def serial_close(self):\n",
    "        if self.serial is None:\n",
    "            return True\n",
    "        else:\n",
    "            try:\n",
    "                self.serial.close()\n",
    "                self.serial = None\n",
    "            except Exception as e:\n",
    "                self.append_debugMsg('重启串口异常: {}'.format(e))\n",
    "    # 尝试读取串口数据\n",
    "    def serial_tryRec(self, tryCount=20, waitTime=0.01):\n",
    "        print('tryCount:{},waitTime{}'.format(tryCount, waitTime))\n",
    "        count = 0\n",
    "        while count < tryCount:\n",
    "            count += 1\n",
    "            try:\n",
    "                wait = self.serial.in_waiting\n",
    "                if wait > 0:\n",
    "                    recdata = self.serial.read(wait)\n",
    "                    return recdata\n",
    "            except Exception as e:\n",
    "                self.append_debugMsg('获取数据错误: {}'.format(e))\n",
    "            time.sleep(waitTime)\n",
    "        print('串口未收到内容:{}'.format(count))\n",
    "        return False\n",
    "    def serial_try_clear(self):\n",
    "        try:\n",
    "            wait = self.serial.in_waiting\n",
    "            if wait > 0:\n",
    "                rec_data = self.serial.read(wait)\n",
    "                return rec_data\n",
    "            else:\n",
    "                return False\n",
    "        except Exception as e :\n",
    "            return False\n",
    "                \n",
    "    # 尝试发送和读取校验\n",
    "    def sendAndRec(self, sendMsg='', recMsg=''):\n",
    "        clear_result = self.serial_try_clear()\n",
    "        if clear_result:\n",
    "            print('清理转台控制缓存区:{}'.format(clear_result))\n",
    "        if len(sendMsg) > 0:\n",
    "            # print('sendMsg: {}'.format(sendMsg))\n",
    "            try:\n",
    "                self.serial.write(sendMsg.encode())\n",
    "            except Exception as e:\n",
    "                self.append_debugMsg('tt_chk send error: {}'.format(e))\n",
    "                return False\n",
    "        try:\n",
    "            rec = self.serial_tryRec()\n",
    "            if not rec:\n",
    "                self.append_debugMsg('未接收到转台指令')\n",
    "                return False\n",
    "            if len(recMsg) > 0:\n",
    "                if isinstance(recMsg, list):\n",
    "                    if all(item in rec.decode() for item in recMsg):\n",
    "                        return True\n",
    "                elif isinstance(recMsg, str):\n",
    "                    if recMsg in rec.decode():\n",
    "                        return True\n",
    "                else:\n",
    "                    self.append_showMsg('回读校验失败: {}'.format(recMsg))\n",
    "                    self.append_debugMsg(\n",
    "                        '回读校验失败: send:<{}> check:<{}> rec:<{}>'.format(sendMsg, recMsg, rec.decode())\n",
    "                    )\n",
    "                    return False\n",
    "            else:\n",
    "                return rec.decode()\n",
    "        except Exception as e:\n",
    "            self.append_debugMsg('tt_chk rec error: {}'.format(e))\n",
    "            return False\n",
    "        return False\n",
    "\n",
    "    # 通讯校验和\n",
    "    def sumCheckAscii(self, string):\n",
    "        return sum(ord(c) for c in string) & 0xFF\n",
    "\n",
    "    # 通讯检查\n",
    "    def sendMsg_chk(self):\n",
    "        return self.sendAndRec('$MNCHK,1*CE\\r\\n', '$ASCHK,OK*30')\n",
    "    # 进入远控\n",
    "    def sendMsg_rem(self):\n",
    "        return self.sendAndRec('$MNREM,1*DC\\r\\n', '$ASREM,OK*3E')\n",
    "    # 返回本控\n",
    "    def sendMsg_loc(self):\n",
    "        return self.sendAndRec('$MNLOC,1*D6\\r\\n', '$ASLOC,OK*38')\n",
    "    # 使能\n",
    "    def sendMsg_enb(self):\n",
    "        return self.sendAndRec('$MNENB,1*CD\\r\\n', '$ASENB,OK*2F')\n",
    "    # 断开使能\n",
    "    def sendMsg_dis(self):\n",
    "        return self.sendAndRec('$MNDIS,1*D8\\r\\n', '$ASDIS,OK*3A')\n",
    "    # 转台寻零\n",
    "    def sendMsg_hmz(self):\n",
    "        return self.sendAndRec('$MNHMZ,1*E7\\r\\n', '$ASHMZ,OK*49')\n",
    "    # 运行模式\n",
    "    def sendMsg_mod(self, a, b, c):\n",
    "        msg_list = [a, b, c]\n",
    "        for i in msg_list:\n",
    "            if str(i) not in ['0', '1', '2']:\n",
    "                self.append_showMsg('转台运行模式设置错误: {}'.format([a, b, c]))\n",
    "                return False\n",
    "        sendMsg = 'MNMOD,{},{},{}'.format(a, b, c)\n",
    "        # recMsg = 'ASMOD,{},{},{},OK'.format(a, b, c)\n",
    "        recMsg = ['ASMOD','OK']\n",
    "        return self.sendAndRec(\n",
    "            '${}*{:02X}\\r\\n'.format(sendMsg, self.sumCheckAscii(sendMsg)),\n",
    "            recMsg\n",
    "            )\n",
    "    # 位置设置\n",
    "    def sendMsg_pos(self, a, b, c):\n",
    "        msg_list = [a, b, c]\n",
    "        for i in msg_list:\n",
    "            try:float(i)\n",
    "            except:\n",
    "                self.append_showMsg('转台位置设置错误: {}'.format([a, b, c]))\n",
    "                return False\n",
    "        sendMsg = 'MNPOS,{},{},{}'.format(a, b, c)\n",
    "        # recMsg = 'ASPOS,{},{},{},OK'.format(a, b, c)\n",
    "        recMsg = ['ASPOS','OK']\n",
    "        return self.sendAndRec(\n",
    "            '${}*{:02X}\\r\\n'.format(sendMsg, self.sumCheckAscii(sendMsg)),\n",
    "            recMsg\n",
    "            )\n",
    "    # 速度设置\n",
    "    def sendMsg_vel(self, a, b, c):\n",
    "        msg_list = [a, b, c]\n",
    "        send_list = []\n",
    "        for i in msg_list:\n",
    "            try:send_list.append(float(i))\n",
    "            except:\n",
    "                self.append_showMsg('转台速度设置错误: {}'.format([a, b, c]))\n",
    "                return False\n",
    "        sendMsg = 'MNVEL,{},{},{}'.format(a, b, c)\n",
    "        # recMsg = 'ASVEL,{},{},{},OK'.format(a, b, c)\n",
    "        recMsg = ['ASVEL','OK']\n",
    "        return self.sendAndRec(\n",
    "            '${}*{:02X}\\r\\n'.format(sendMsg, self.sumCheckAscii(sendMsg)),\n",
    "            recMsg\n",
    "            )\n",
    "    # 加速度设置\n",
    "    def sendMsg_acc(self, a, b, c):\n",
    "        msg_list = [a, b, c]\n",
    "        for i in msg_list:\n",
    "            try:float(i)\n",
    "            except:\n",
    "                self.append_showMsg('转台加速度设置错误: {}'.format([a, b, c]))\n",
    "                return False\n",
    "        sendMsg = 'MNACC,{},{},{}'.format(a, b, c)\n",
    "        # recMsg = 'ASACC,{},{},{},OK'.format(a, b, c)\n",
    "        recMsg = ['ASACC','OK']\n",
    "        return self.sendAndRec(\n",
    "            '${}*{:02X}\\r\\n'.format(sendMsg, self.sumCheckAscii(sendMsg)),\n",
    "            recMsg\n",
    "            )\n",
    "    # 运行\n",
    "    def sendMsg_run(self):\n",
    "        return self.sendAndRec('$MNRUN,1*ED\\r\\n', '$ASRUN,OK*4F')\n",
    "    # 停止\n",
    "    def sendMsg_stp(self):\n",
    "        return self.sendAndRec('$MNSTP,1*EF\\r\\n', '$ASSTP,OK*51')\n",
    "    # 状态查询\n",
    "    def sendMsg_sts(self):\n",
    "        return self.sendAndRec('$MNSTS,1*F2\\r\\n', '')"
   ]
  },
  {
   "cell_type": "code",
   "execution_count": 186,
   "metadata": {},
   "outputs": [],
   "source": [
    "test.serial_close()"
   ]
  },
  {
   "cell_type": "code",
   "execution_count": 187,
   "metadata": {},
   "outputs": [],
   "source": [
    "test = turnTable3x()\n",
    "test.serial_com = 'COM58'\n",
    "test.serial_open()"
   ]
  },
  {
   "cell_type": "code",
   "execution_count": 189,
   "metadata": {},
   "outputs": [
    {
     "name": "stdout",
     "output_type": "stream",
     "text": [
      "tryCount:20,waitTime0.01\n",
      "True\n",
      "tryCount:20,waitTime0.01\n",
      "True\n",
      "[]\n",
      "[]\n"
     ]
    }
   ],
   "source": [
    "print(test.sendMsg_pos(10,10,10))\n",
    "print(test.sendMsg_vel(0.5,0.5,0.5))\n",
    "\n",
    "print(test.list_showMsg)\n",
    "print(test.list_debugMsg)"
   ]
  },
  {
   "cell_type": "code",
   "execution_count": 196,
   "metadata": {},
   "outputs": [
    {
     "name": "stdout",
     "output_type": "stream",
     "text": [
      "tryCount:20,waitTime0.01\n",
      "$ASSTS,6.5856,0.500, 31D,6.5861,0.500, 31D,6.5803,0.500,  1D,OK*A6\n",
      "\n",
      "[]\n",
      "[]\n"
     ]
    }
   ],
   "source": [
    "# print(test.sendMsg_run())\n",
    "# print(test.sendMsg_stp())\n",
    "print(test.sendMsg_sts())\n",
    "print(test.list_showMsg)\n",
    "print(test.list_debugMsg)\n",
    "test.append_msgClear()"
   ]
  },
  {
   "cell_type": "markdown",
   "metadata": {},
   "source": [
    "转动中  31D 31D 1D\n",
    "已停止  30D 30D D   "
   ]
  },
  {
   "cell_type": "code",
   "execution_count": 29,
   "metadata": {},
   "outputs": [
    {
     "name": "stdout",
     "output_type": "stream",
     "text": [
      "True\n",
      "[]\n",
      "[]\n"
     ]
    }
   ],
   "source": [
    "print(test.sendMsg_stp())\n",
    "print(test.list_showMsg)\n",
    "print(test.list_debugMsg)\n",
    "test.append_msgClear()"
   ]
  },
  {
   "cell_type": "code",
   "execution_count": 66,
   "metadata": {},
   "outputs": [
    {
     "name": "stdout",
     "output_type": "stream",
     "text": [
      "$ASSTS,359.9999,0.000, 30D,0.0000,0.000, 30D,359.9999,0.000,   D,OK*60\n",
      "\n",
      "耗时:0.1909s\n"
     ]
    }
   ],
   "source": [
    "test = serial.Serial('com58','115200')\n",
    "begin_time = time.time()\n",
    "test.write('$MNSTS,1*F2\\r\\n'.encode())\n",
    "while True:\n",
    "    wait = test.in_waiting\n",
    "    if wait>0:\n",
    "        print(test.read(wait).decode())\n",
    "        break\n",
    "print('耗时:{:.4f}s'.format(time.time()-begin_time))\n",
    "test.close()"
   ]
  },
  {
   "cell_type": "code",
   "execution_count": 41,
   "metadata": {},
   "outputs": [],
   "source": [
    "test.close()"
   ]
  },
  {
   "cell_type": "code",
   "execution_count": null,
   "metadata": {},
   "outputs": [],
   "source": [
    "    "
   ]
  },
  {
   "cell_type": "code",
   "execution_count": 27,
   "metadata": {},
   "outputs": [
    {
     "name": "stdout",
     "output_type": "stream",
     "text": [
      "sendMsg: $MNVEL,12.3456,-123.4567,10.0000*7F\n",
      "\n"
     ]
    },
    {
     "data": {
      "text/plain": [
       "False"
      ]
     },
     "execution_count": 27,
     "metadata": {},
     "output_type": "execute_result"
    }
   ],
   "source": [
    "test.sendMsg_vel(12.3456,-123.4567,'10.0000')"
   ]
  },
  {
   "cell_type": "code",
   "execution_count": 36,
   "metadata": {},
   "outputs": [
    {
     "name": "stdout",
     "output_type": "stream",
     "text": [
      "sendMsg: $MNACC,10.0000,20.0000,30.0000*D6\n",
      "\n"
     ]
    },
    {
     "data": {
      "text/plain": [
       "False"
      ]
     },
     "execution_count": 36,
     "metadata": {},
     "output_type": "execute_result"
    }
   ],
   "source": [
    "test.sendMsg_acc('10.0000','20.0000','30.0000')"
   ]
  },
  {
   "cell_type": "code",
   "execution_count": 14,
   "metadata": {},
   "outputs": [
    {
     "data": {
      "text/plain": [
       "[]"
      ]
     },
     "execution_count": 14,
     "metadata": {},
     "output_type": "execute_result"
    }
   ],
   "source": [
    "a = [1,2,2]\n",
    "a.clear()\n",
    "a"
   ]
  },
  {
   "cell_type": "code",
   "execution_count": 34,
   "metadata": {},
   "outputs": [
    {
     "data": {
      "text/plain": [
       "'0x3e'"
      ]
     },
     "execution_count": 34,
     "metadata": {},
     "output_type": "execute_result"
    }
   ],
   "source": [
    "hex(test.sumCheckAscii('ASVEL,12.3456,-123.4567,10.0000,OK'))"
   ]
  },
  {
   "cell_type": "code",
   "execution_count": 12,
   "metadata": {},
   "outputs": [
    {
     "data": {
      "text/plain": [
       "False"
      ]
     },
     "execution_count": 12,
     "metadata": {},
     "output_type": "execute_result"
    }
   ],
   "source": [
    "0x7f-0xd1"
   ]
  },
  {
   "cell_type": "code",
   "execution_count": 31,
   "metadata": {},
   "outputs": [
    {
     "data": {
      "text/plain": [
       "'R'"
      ]
     },
     "execution_count": 31,
     "metadata": {},
     "output_type": "execute_result"
    }
   ],
   "source": [
    "# ascii码82转字符\n",
    "chr(82)"
   ]
  },
  {
   "cell_type": "code",
   "execution_count": 197,
   "metadata": {},
   "outputs": [],
   "source": [
    "from funs.fun_checks import *\n"
   ]
  },
  {
   "cell_type": "code",
   "execution_count": null,
   "metadata": {},
   "outputs": [],
   "source": [
    "\n",
    "def calculate_crc16_mcrf4xx(data: bytearray):\n",
    "    crc = 0xFFFF\n",
    "    tmp = 0\n",
    "    for i in range(len(data)):\n",
    "        tmp = data[i]^(crc&0xFF)\n",
    "        tmp^=tmp<<4\n",
    "        tmp&0xffff\n",
    "        crc = (crc>>8)^(tmp<<8)^(tmp<<3)^(tmp>>4)\n",
    "    return crc & 0xFFFF"
   ]
  },
  {
   "cell_type": "code",
   "execution_count": null,
   "metadata": {},
   "outputs": [
    {
     "name": "stdout",
     "output_type": "stream",
     "text": [
      "<FE 10 00 00 00 03 40 64 6F 0A 00 00 00 00 00 00 00 00 00 00 00 00>\n",
      "fe100000000340646f0a000000000000000000000000\n",
      "B62F\n",
      "712D04E1\n",
      "5E6B\n"
     ]
    }
   ],
   "source": [
    "\n",
    "def calculate_crc16_mcrf4xx(data: bytearray):\n",
    "    crc = 0xFFFF  # unsigned short 初始值\n",
    "    for b in data:\n",
    "        tmp = b ^ (crc & 0xFF)\n",
    "        tmp &= 0xFFFF  # 保留 16 位\n",
    "        tmp ^= (tmp << 4) & 0xFFFF\n",
    "        tmp &= 0xFFFF  # 保留 16 位\n",
    "        crc = ((crc >> 8) ^ ((tmp << 8) & 0xFFFF) ^ ((tmp << 3) & 0xFFFF) ^ (tmp >> 4))\n",
    "        crc &= 0xFFFF  # 保留 16 位\n",
    "    return crc & 0xFFFF\n",
    "data = 'FE 10 00 00 00 03 40 64 6F 0A'+' 00'*12\n",
    "data = 'FE 10 00 00 00 03 40 64 6F 0A'+' 00'*12\n",
    "print('<{}>'.format(data))\n",
    "print(bytes.fromhex(data).hex())\n",
    "print('{:04X}'.format(calculate_crc16(bytes.fromhex(data))))\n",
    "print('{:04X}'.format(calculate_crc32(bytes.fromhex(data))))\n",
    "print('{:04X}'.format(calculate_crc16_mcrf4xx(bytes.fromhex(data))))"
   ]
  },
  {
   "cell_type": "code",
   "execution_count": 6,
   "metadata": {},
   "outputs": [],
   "source": [
    "filename = 'E:/Data/8357/振动/8357_振动_X_协议_20250731143118_hex.hex'\n",
    "with open(filename, 'rb') as f:\n",
    "    data = f.read()\n",
    "test_data = data[39:39+57]"
   ]
  },
  {
   "cell_type": "code",
   "execution_count": 26,
   "metadata": {},
   "outputs": [
    {
     "name": "stdout",
     "output_type": "stream",
     "text": [
      "0xb79\n",
      "0x79\n"
     ]
    }
   ],
   "source": [
    "test = '55aaab00000002960003a22935833bff35ba6f6fb71a4626ba0befaf3d47b5703b179708025b025b026f02a1029500000000000000000500010033eb9033c0ff669979eb903318a0000014e907082333bc0273a1f1060728aa000000000000000000660079000f010000190000000e86eb90331802ab0000000000000000c0ffaabb74e8073b1d11001e7b6283d1dc4340c1f20537ed1f5d40db40616cdf2d3b40d540c13c5d1fbc3bf29f843836012ebfa9e708c0ac41d3421400010200c0ff'\n",
    "test_data = bytes.fromhex(test)\n",
    "print(hex(sum(test_data[67:126])))\n",
    "print(hex(test_data[66]))"
   ]
  },
  {
   "cell_type": "code",
   "execution_count": 25,
   "metadata": {},
   "outputs": [
    {
     "name": "stdout",
     "output_type": "stream",
     "text": [
      "35\n",
      "0xf23\n",
      "3\n",
      "0x3\n"
     ]
    }
   ],
   "source": [
    "test = b'\\x90\\xeb4\\x00\\xaaU\\xaaU\\xf4\\xff\\xd4\\x91\\xd8R\\x9d\\xe1@<?\\x86%\\x00\\x00\\x00\\x00\\x00\\x00\\x00\\xb69\\xce\\xff9\\x00%\\x01\\xe0\\xfc-\\x01@\\r\\x00\\x01\\x01\\x01\\x00\\x00\\x00\\x00\\x00\\x00\\x0b\\x0b\\x00\\x00\\x03'\n",
    "print(sum(test[2:56])&0xff)\n",
    "print(hex(sum(test[2:56])))\n",
    "print(test[56])\n",
    "print(hex(test[-1]))"
   ]
  },
  {
   "cell_type": "code",
   "execution_count": 31,
   "metadata": {},
   "outputs": [
    {
     "name": "stdout",
     "output_type": "stream",
     "text": [
      "1102400\n"
     ]
    }
   ],
   "source": [
    "filename ='E:/Data/8357/跑车/8357跑车_通用_20250807171726_hz.txt'\n",
    "df = pd.read_csv(filename, sep='\\t', header=None)\n",
    "print(len(df))"
   ]
  },
  {
   "cell_type": "code",
   "execution_count": null,
   "metadata": {},
   "outputs": [
    {
     "name": "stdout",
     "output_type": "stream",
     "text": [
      "21300\n"
     ]
    }
   ],
   "source": [
    "df = df[df[24]<117]\n",
    "df = df[df[24]>116.47]\n",
    "df = df[df[25]<40]\n",
    "df = df[df[25]>39]\n",
    "print(len(df))"
   ]
  },
  {
   "cell_type": "code",
   "execution_count": 38,
   "metadata": {},
   "outputs": [
    {
     "data": {
      "text/plain": [
       "[<matplotlib.lines.Line2D at 0x15800ac0dc0>]"
      ]
     },
     "execution_count": 38,
     "metadata": {},
     "output_type": "execute_result"
    },
    {
     "data": {
      "image/png": "[encoded data removed]",
      "text/plain": [
       "<Figure size 640x480 with 1 Axes>"
      ]
     },
     "metadata": {},
     "output_type": "display_data"
    }
   ],
   "source": [
    "plt.plot(df[24],df[25])"
   ]
  },
  {
   "cell_type": "code",
   "execution_count": 47,
   "metadata": {},
   "outputs": [
    {
     "name": "stderr",
     "output_type": "stream",
     "text": [
      "C:\\Users\\chy\\AppData\\Local\\Temp\\ipykernel_6052\\3606290349.py:5: UserWarning: Boolean Series key will be reindexed to match DataFrame index.\n",
      "  df2 = df2[diff_data1 >-0.002]\n",
      "C:\\Users\\chy\\AppData\\Local\\Temp\\ipykernel_6052\\3606290349.py:6: UserWarning: Boolean Series key will be reindexed to match DataFrame index.\n",
      "  df2 = df2[diff_data2 <0.002]\n",
      "C:\\Users\\chy\\AppData\\Local\\Temp\\ipykernel_6052\\3606290349.py:7: UserWarning: Boolean Series key will be reindexed to match DataFrame index.\n",
      "  df2 = df2[diff_data2 >-0.002]\n"
     ]
    }
   ],
   "source": [
    "diff_data1 = df[24].diff()\n",
    "diff_data2 = df[25].diff()\n",
    "df2 = df\n",
    "df2 = df2[diff_data1 <0.002]\n",
    "df2 = df2[diff_data1 >-0.002]\n",
    "df2 = df2[diff_data2 <0.002]\n",
    "df2 = df2[diff_data2 >-0.002]"
   ]
  },
  {
   "cell_type": "code",
   "execution_count": 54,
   "metadata": {},
   "outputs": [],
   "source": [
    "for i in range(3):\n",
    "    df2 = df2[df2[27+i]<100]\n",
    "    df2 = df2[df2[27+i]>-20]"
   ]
  },
  {
   "cell_type": "code",
   "execution_count": 86,
   "metadata": {},
   "outputs": [],
   "source": [
    "df2 = df2[df2[14]>0]"
   ]
  },
  {
   "cell_type": "code",
   "execution_count": 87,
   "metadata": {},
   "outputs": [],
   "source": [
    "df2.to_csv('E:/Work/理工导航/General_autoTest_Host/测试数据/202508/14/8357跑车_基准_20250814023250_s.txt', index=False,sep='\\t',header=None)"
   ]
  }
 ],
 "metadata": {
  "kernelspec": {
   "display_name": "base",
   "language": "python",
   "name": "python3"
  },
  "language_info": {
   "codemirror_mode": {
    "name": "ipython",
    "version": 3
   },
   "file_extension": ".py",
   "mimetype": "text/x-python",
   "name": "python",
   "nbconvert_exporter": "python",
   "pygments_lexer": "ipython3",
   "version": "3.9.16"
  }
 },
 "nbformat": 4,
 "nbformat_minor": 2
}
