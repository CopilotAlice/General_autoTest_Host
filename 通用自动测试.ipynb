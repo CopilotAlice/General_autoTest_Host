{
 "cells": [
  {
   "cell_type": "code",
   "execution_count": 3,
   "metadata": {},
   "outputs": [],
   "source": [
    "import numpy as np \n",
    "import pandas as pd \n",
    "import matplotlib.pyplot as plt \n",
    "from scipy import signal\n",
    "import time\n",
    "import datetime\n",
    "import serial\n",
    "from scipy.fftpack import fft,ifft\n",
    "from matplotlib.pylab import mpl\n",
    "import struct\n",
    "import os\n",
    "import serial\n",
    "from pathlib import Path\n",
    "\n",
    "mpl.rcParams['font.sans-serif'] = ['SimHei']\n",
    "mpl.rcParams['axes.unicode_minus'] = False"
   ]
  },
  {
   "cell_type": "code",
   "execution_count": 27,
   "metadata": {},
   "outputs": [],
   "source": [
    "!python.exe -m PyQt5.uic.pyuic Automated_testingV1.5.ui -o Automated_testingV15.py"
   ]
  },
  {
   "cell_type": "code",
   "execution_count": 58,
   "metadata": {},
   "outputs": [],
   "source": [
    "!python.exe -m PyQt5.uic.pyuic Automated_testing.ui -o Automated_testing.py"
   ]
  },
  {
   "cell_type": "code",
   "execution_count": 30,
   "metadata": {},
   "outputs": [
    {
     "data": {
      "text/plain": [
       "WindowsPath('D:/test/test2')"
      ]
     },
     "execution_count": 30,
     "metadata": {},
     "output_type": "execute_result"
    }
   ],
   "source": [
    "Path('D:/')/'test'/'test2'"
   ]
  },
  {
   "cell_type": "code",
   "execution_count": 31,
   "metadata": {},
   "outputs": [],
   "source": [
    "def del_empty_folder(path):\n",
    "    for folder in os.listdir(path):\n",
    "        folder_path = os.path.join(path,folder)\n",
    "        if os.path.isdir(folder_path):\n",
    "            del_empty_folder(folder_path)\n",
    "            if not os.listdir(folder_path):\n",
    "                os.rmdir(folder_path)\n",
    "del_empty_folder('D:\\\\Data\\\\BD_Data\\\\标定数据\\\\测试\\\\202503')"
   ]
  },
  {
   "cell_type": "code",
   "execution_count": 33,
   "metadata": {},
   "outputs": [
    {
     "data": {
      "text/plain": [
       "'D:\\\\Data\\\\BD_Data\\\\标定数据\\\\测试\\\\202503'"
      ]
     },
     "execution_count": 33,
     "metadata": {},
     "output_type": "execute_result"
    }
   ],
   "source": [
    "str(Path('D:/Data/BD_Data/标定数据/测试/202503'))"
   ]
  },
  {
   "cell_type": "code",
   "execution_count": 14,
   "metadata": {},
   "outputs": [],
   "source": [
    "test = b'\\x55\\xaa\\xcc\\xdd'\n",
    "test_list = struct.unpack('>BBBB',test)"
   ]
  },
  {
   "cell_type": "code",
   "execution_count": 20,
   "metadata": {},
   "outputs": [
    {
     "data": {
      "text/plain": [
       "[85, 170, 204, 221]"
      ]
     },
     "execution_count": 20,
     "metadata": {},
     "output_type": "execute_result"
    }
   ],
   "source": [
    "bit_data = []\n",
    "bit_data+=test_list\n",
    "bit_data"
   ]
  },
  {
   "cell_type": "code",
   "execution_count": 4,
   "metadata": {},
   "outputs": [],
   "source": [
    "select_plan_name = '01_自动测试'\n",
    "plan_rule_name = './自动规则/{}.txt'.format(select_plan_name)\n",
    "plan_files = pd.read_csv(plan_rule_name,sep='\\\\s+',header=None,encoding='gb2312')"
   ]
  },
  {
   "cell_type": "code",
   "execution_count": 24,
   "metadata": {},
   "outputs": [
    {
     "name": "stdout",
     "output_type": "stream",
     "text": [
      "[8, 16, 24]\n",
      "[2.6666666666666665, 5.333333333333333, 8.0]\n"
     ]
    }
   ],
   "source": [
    "a = [1,2,3]\n",
    "for j in range(3):\n",
    "    for i in range(len(a)):\n",
    "        a[i]+=a[i]\n",
    "print(a)\n",
    "for i in range(len(a)):\n",
    "    a[i] = a[i]/3\n",
    "print(a)"
   ]
  },
  {
   "cell_type": "code",
   "execution_count": 34,
   "metadata": {},
   "outputs": [
    {
     "data": {
      "text/plain": [
       "True"
      ]
     },
     "execution_count": 34,
     "metadata": {},
     "output_type": "execute_result"
    }
   ],
   "source": [
    "a[2].is_integer()"
   ]
  },
  {
   "cell_type": "code",
   "execution_count": 35,
   "metadata": {},
   "outputs": [
    {
     "data": {
      "text/plain": [
       "['2.666667', '5.333333', '8']"
      ]
     },
     "execution_count": 35,
     "metadata": {},
     "output_type": "execute_result"
    }
   ],
   "source": [
    "receive_data_s = [2.6666666666666665, 5.333333333333333, 8.0]\n",
    "save_decimal_point = 6\n",
    "['{:.{}f}'.format(i,save_decimal_point)if not i.is_integer() else str(int(i)) for i in receive_data_s]"
   ]
  },
  {
   "cell_type": "code",
   "execution_count": 44,
   "metadata": {},
   "outputs": [
    {
     "data": {
      "text/plain": [
       "1"
      ]
     },
     "execution_count": 44,
     "metadata": {},
     "output_type": "execute_result"
    }
   ],
   "source": [
    "plot_axis_text = '1  1235ms计数'\n",
    "try:axis_plot = int(plot_axis_text.split()[0])\n",
    "except:axis_plot = 0\n",
    "axis_plot"
   ]
  },
  {
   "cell_type": "code",
   "execution_count": 1,
   "metadata": {},
   "outputs": [
    {
     "data": {
      "text/plain": [
       "True"
      ]
     },
     "execution_count": 1,
     "metadata": {},
     "output_type": "execute_result"
    }
   ],
   "source": [
    "type(0.01)==float"
   ]
  },
  {
   "cell_type": "code",
   "execution_count": 11,
   "metadata": {},
   "outputs": [
    {
     "data": {
      "text/plain": [
       "'55aaac00000003b900074fd13c76977dbeb616d03f2104e97f1f9bab3d3886c64301861703ac03a603b603b803c200000000000000000500000000000000c0ff'"
      ]
     },
     "execution_count": 11,
     "metadata": {},
     "output_type": "execute_result"
    }
   ],
   "source": [
    "\n",
    "strings = '55aaac00000003b900074fd13c76977dbeb616d03f2104e97f1f9bab3d3886c64301861703ac03a603b603b803c200000000000000000500000000000000c0ff'\n",
    "strings"
   ]
  },
  {
   "cell_type": "code",
   "execution_count": 12,
   "metadata": {},
   "outputs": [
    {
     "data": {
      "text/plain": [
       "b'U\\xaa\\xac\\x00\\x00\\x00\\x03\\xb9\\x00\\x07O\\xd1<v\\x97}\\xbe\\xb6\\x16\\xd0?!\\x04\\xe9\\x7f\\x1f\\x9b\\xab=8\\x86\\xc6C\\x01\\x86\\x17\\x03\\xac\\x03\\xa6\\x03\\xb6\\x03\\xb8\\x03\\xc2\\x00\\x00\\x00\\x00\\x00\\x00\\x00\\x00\\x05\\x00\\x00\\x00\\x00\\x00\\x00\\x00\\xc0\\xff'"
      ]
     },
     "execution_count": 12,
     "metadata": {},
     "output_type": "execute_result"
    }
   ],
   "source": [
    "bytes.fromhex(strings)"
   ]
  },
  {
   "cell_type": "code",
   "execution_count": 17,
   "metadata": {},
   "outputs": [
    {
     "data": {
      "text/plain": [
       "'55 aa ac 00 00 00 03 b9 00 07 4f d1 3c 76 97 7d be b6 16 d0 3f 21 04 e9 7f 1f 9b ab 3d 38 86 c6 43 01 86 17 03 ac 03 a6 03 b6 03 b8 03 c2 00 00 00 00 00 00 00 00 05 00 00 00 00 00 00 00 c0 ff '"
      ]
     },
     "execution_count": 17,
     "metadata": {},
     "output_type": "execute_result"
    }
   ],
   "source": [
    "split_data = ''\n",
    "split_list = []\n",
    "for i in range(len(strings)//2):\n",
    "    split_data+=strings[i*2:i*2+2]+' '\n",
    "    split_list.append(strings[i*2:i*2+2])\n",
    "split_data"
   ]
  },
  {
   "cell_type": "code",
   "execution_count": 3,
   "metadata": {},
   "outputs": [
    {
     "ename": "NameError",
     "evalue": "name '__dict__' is not defined",
     "output_type": "error",
     "traceback": [
      "\u001b[1;31m---------------------------------------------------------------------------\u001b[0m",
      "\u001b[1;31mNameError\u001b[0m                                 Traceback (most recent call last)",
      "Cell \u001b[1;32mIn[3], line 1\u001b[0m\n\u001b[1;32m----> 1\u001b[0m \u001b[38;5;18m__dict__\u001b[39m[\u001b[38;5;124m'\u001b[39m\u001b[38;5;124mtest\u001b[39m\u001b[38;5;124m'\u001b[39m] \u001b[38;5;241m=\u001b[39m \u001b[38;5;124m'\u001b[39m\u001b[38;5;124mtest\u001b[39m\u001b[38;5;124m'\u001b[39m\n",
      "\u001b[1;31mNameError\u001b[0m: name '__dict__' is not defined"
     ]
    }
   ],
   "source": [
    "__dict__['test'] = 'test'"
   ]
  },
  {
   "cell_type": "code",
   "execution_count": null,
   "metadata": {},
   "outputs": [],
   "source": []
  },
  {
   "cell_type": "code",
   "execution_count": 34,
   "metadata": {},
   "outputs": [
    {
     "name": "stdout",
     "output_type": "stream",
     "text": [
      "26_BD1#loc[0.0_0.0_0.0_0.0]#55445_hz.txt\n",
      "26_BD2#spd[0.0_0.0_0.0_60.0]#55445_hz.txt\n",
      "26_BD3#spd[0.0_0.0_0.0_-60.0]#55445_hz.txt\n",
      "26_BD4#spd[0.0_0.0_0.0_90.0]#55445_hz.txt\n",
      "26_BD5#spd[0.0_0.0_0.0_-90.0]#55445_hz.txt\n",
      "26_BD6#spd[0.0_0.0_0.0_180.0]#55445_hz.txt\n",
      "26_BD7#spd[0.0_0.0_0.0_-180.0]#55445_hz.txt\n",
      "26_BD8#loc[0.0_0.0_0.0_0.0]#55445_hz.txt\n",
      "26_BD9#loc[0.0_90.0_0.0_0.0]#55445_hz.txt\n",
      "26_BD10#loc[0.0_180.0_0.0_0.0]#55445_hz.txt\n",
      "26_BD11#loc[0.0_270.0_0.0_0.0]#55445_hz.txt\n",
      "26_BD12#loc[90.0_0.0_0.0_0.0]#55445_hz.txt\n",
      "26_BD13#loc[90.0_90.0_0.0_0.0]#55445_hz.txt\n",
      "26_BD14#loc[90.0_180.0_0.0_0.0]#55445_hz.txt\n",
      "26_BD15#loc[90.0_270.0_0.0_0.0]#55445_hz.txt\n",
      "26_BD16#spd[0.0_0.0_0.0_1.0]#55445_hz.txt\n"
     ]
    }
   ],
   "source": [
    "count_begin_rule = 'BD'\n",
    "count_end_rule = '#'\n",
    "lists = ['26_BD1#loc[0.0_0.0_0.0_0.0]#55445_hz.txt', '26_BD10#loc[0.0_180.0_0.0_0.0]#55445_hz.txt', '26_BD11#loc[0.0_270.0_0.0_0.0]#55445_hz.txt', '26_BD12#loc[90.0_0.0_0.0_0.0]#55445_hz.txt', '26_BD13#loc[90.0_90.0_0.0_0.0]#55445_hz.txt', '26_BD14#loc[90.0_180.0_0.0_0.0]#55445_hz.txt', '26_BD15#loc[90.0_270.0_0.0_0.0]#55445_hz.txt', '26_BD16#spd[0.0_0.0_0.0_1.0]#55445_hz.txt', '26_BD2#spd[0.0_0.0_0.0_60.0]#55445_hz.txt', '26_BD3#spd[0.0_0.0_0.0_-60.0]#55445_hz.txt', '26_BD4#spd[0.0_0.0_0.0_90.0]#55445_hz.txt', '26_BD5#spd[0.0_0.0_0.0_-90.0]#55445_hz.txt', '26_BD6#spd[0.0_0.0_0.0_180.0]#55445_hz.txt', '26_BD7#spd[0.0_0.0_0.0_-180.0]#55445_hz.txt', '26_BD8#loc[0.0_0.0_0.0_0.0]#55445_hz.txt', '26_BD9#loc[0.0_90.0_0.0_0.0]#55445_hz.txt']\n",
    "for filename in sorted( lists, key= lambda itemname:int(itemname.split(count_begin_rule)[1].split(count_end_rule)[0]) ):\n",
    "    print(filename)"
   ]
  },
  {
   "cell_type": "markdown",
   "metadata": {},
   "source": []
  },
  {
   "cell_type": "code",
   "execution_count": 1,
   "metadata": {},
   "outputs": [
    {
     "data": {
      "text/plain": [
       "68"
      ]
     },
     "execution_count": 1,
     "metadata": {},
     "output_type": "execute_result"
    }
   ],
   "source": [
    "len('EB 90 41 00 91 03 2F BC 58 F8 44 3B 89 8D 40 BC 08 F7 08 BD 0A 6D 2F 3C A9 65 1C C1 00 00 00 00 00 00 00 00 00 00 00 00 00 00 00 00 00 00 00 00 00 00 00 00 00 00 00 00 00 00 00 00 00 00 00 00 00 00 13 1F ')//3"
   ]
  },
  {
   "cell_type": "code",
   "execution_count": null,
   "metadata": {},
   "outputs": [
    {
     "data": {
      "text/plain": [
       "'D:\\\\程序\\tongyong_chy'"
      ]
     },
     "execution_count": 5,
     "metadata": {},
     "output_type": "execute_result"
    }
   ],
   "source": [
    "EB 90 5E 01 00 00 00 00 00 00 AC 8D AE 17 1C E7 70 45 00 00 A0 41 0A 01 0A 01 00 00 00 00 00 00 AC 8D AE 17 1C E7 70 45 00 00 A0 41 0A 00 0A 00 00 00 00 00 00 00 00 00 00 00 00 00 00 00 00 00 00 00 00 00 00 00 00 00 00 00 00 00 00 00 00 00 00 00 00 00 00 00 E8 03 00 00 E8 03 00 00 00 2A CB "
   ]
  }
 ],
 "metadata": {
  "kernelspec": {
   "display_name": "base",
   "language": "python",
   "name": "python3"
  },
  "language_info": {
   "codemirror_mode": {
    "name": "ipython",
    "version": 3
   },
   "file_extension": ".py",
   "mimetype": "text/x-python",
   "name": "python",
   "nbconvert_exporter": "python",
   "pygments_lexer": "ipython3",
   "version": "3.11.7"
  }
 },
 "nbformat": 4,
 "nbformat_minor": 2
}
