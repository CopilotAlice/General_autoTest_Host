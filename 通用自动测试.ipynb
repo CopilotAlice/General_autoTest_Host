{
 "cells": [
  {
   "cell_type": "code",
   "execution_count": 50,
   "metadata": {},
   "outputs": [],
   "source": [
    "import numpy as np \n",
    "import pandas as pd \n",
    "import matplotlib.pyplot as plt \n",
    "from scipy import signal\n",
    "import time\n",
    "import datetime\n",
    "import serial\n",
    "from scipy.fftpack import fft,ifft\n",
    "from matplotlib.pylab import mpl\n",
    "import struct\n",
    "import os\n",
    "mpl.rcParams['font.sans-serif'] = ['SimHei']\n",
    "mpl.rcParams['axes.unicode_minus'] = False"
   ]
  },
  {
   "cell_type": "code",
   "execution_count": 1,
   "metadata": {},
   "outputs": [],
   "source": [
    "!python.exe -m PyQt5.uic.pyuic Automated_testing.ui -o Automated_testing.py"
   ]
  },
  {
   "cell_type": "code",
   "execution_count": null,
   "metadata": {},
   "outputs": [],
   "source": [
    "def open_power(self):\n",
    "    # serial_com = self.combox_power_com.currentText()\n",
    "    serials = serial.Serial(serial_com, 9600)\n",
    "    serials.write('{\\\"A01\\\":110000}'.encode())\n",
    "    serials.close()\n",
    "        \n",
    "def close_power(self):\n",
    "    # serial_com = self.combox_power_com.currentText()\n",
    "    serials = serial.Serial(serial_com, 9600)\n",
    "    serials.write('{\\\"A01\\\":100000}'.encode())\n",
    "    serials.close()   \n"
   ]
  },
  {
   "cell_type": "code",
   "execution_count": 25,
   "metadata": {},
   "outputs": [
    {
     "data": {
      "text/plain": [
       "14"
      ]
     },
     "execution_count": 25,
     "metadata": {},
     "output_type": "execute_result"
    }
   ],
   "source": [
    "try:\n",
    "    serials.close()\n",
    "    serials = serial.Serial('com2', 9600)\n",
    "except:\n",
    "    serials = serial.Serial('com2', 9600)\n",
    "serials.write('{\\\"A04\\\":100000}'.encode())"
   ]
  },
  {
   "cell_type": "code",
   "execution_count": 41,
   "metadata": {},
   "outputs": [],
   "source": [
    "try:\n",
    "    serials.close()\n",
    "    serials = serial.Serial('com2', 9600)\n",
    "except:\n",
    "    serials = serial.Serial('com2', 9600)\n",
    "# serials.write('{\\\"A01\\\":110000}'.encode())\n",
    "# serials.write('{\\\"A01\\\":100000}'.encode())\n",
    "for j in range(3):\n",
    "    for i in range(4):\n",
    "        k = i+1\n",
    "        serials.write(('{\\\"A0%s\\\":110000}'%k).encode())\n",
    "        time.sleep(0.1*j+0.01)\n",
    "    for i in range(4):\n",
    "        k = i+1\n",
    "        serials.write(('{\\\"A0%s\\\":100000}'%k).encode())\n",
    "        time.sleep(0.1*j+0.01)\n",
    "serials.close()   "
   ]
  },
  {
   "cell_type": "code",
   "execution_count": 8,
   "metadata": {},
   "outputs": [
    {
     "data": {
      "text/plain": [
       "str"
      ]
     },
     "execution_count": 8,
     "metadata": {},
     "output_type": "execute_result"
    }
   ],
   "source": [
    "type('asd')"
   ]
  },
  {
   "cell_type": "code",
   "execution_count": 11,
   "metadata": {},
   "outputs": [
    {
     "ename": "ValueError",
     "evalue": "'odds' is not in list",
     "output_type": "error",
     "traceback": [
      "\u001b[1;31m---------------------------------------------------------------------------\u001b[0m",
      "\u001b[1;31mValueError\u001b[0m                                Traceback (most recent call last)",
      "Cell \u001b[1;32mIn[11], line 2\u001b[0m\n\u001b[0;32m      1\u001b[0m lists \u001b[38;5;241m=\u001b[39m [\u001b[38;5;124m'\u001b[39m\u001b[38;5;124mnone\u001b[39m\u001b[38;5;124m'\u001b[39m,\u001b[38;5;124m'\u001b[39m\u001b[38;5;124modd\u001b[39m\u001b[38;5;124m'\u001b[39m,\u001b[38;5;124m'\u001b[39m\u001b[38;5;124mas\u001b[39m\u001b[38;5;124m'\u001b[39m]\n\u001b[1;32m----> 2\u001b[0m \u001b[43mlists\u001b[49m\u001b[38;5;241;43m.\u001b[39;49m\u001b[43mindex\u001b[49m\u001b[43m(\u001b[49m\u001b[38;5;124;43m'\u001b[39;49m\u001b[38;5;124;43modds\u001b[39;49m\u001b[38;5;124;43m'\u001b[39;49m\u001b[43m)\u001b[49m\n",
      "\u001b[1;31mValueError\u001b[0m: 'odds' is not in list"
     ]
    }
   ],
   "source": [
    "lists = ['none','odd','as']\n",
    "lists.index('odds')"
   ]
  },
  {
   "cell_type": "code",
   "execution_count": 14,
   "metadata": {},
   "outputs": [
    {
     "name": "stdout",
     "output_type": "stream",
     "text": [
      "123\n"
     ]
    }
   ],
   "source": [
    "result = None\n",
    "try: result = int(\"123\")\n",
    "except ValueError: pass\n",
    "print(result)  # 输出: 123"
   ]
  },
  {
   "cell_type": "code",
   "execution_count": 24,
   "metadata": {},
   "outputs": [
    {
     "data": {
      "text/plain": [
       "'even'"
      ]
     },
     "execution_count": 24,
     "metadata": {},
     "output_type": "execute_result"
    }
   ],
   "source": [
    "def chinese2check(data):\n",
    "    try: return ['none','even','odd'][['无校验','偶校验','奇校验'].index(str(data).lower())]\n",
    "    except: return 'none'\n",
    "chinese2check('偶校验')"
   ]
  },
  {
   "cell_type": "code",
   "execution_count": 16,
   "metadata": {},
   "outputs": [
    {
     "data": {
      "text/plain": [
       "'无校验'"
      ]
     },
     "execution_count": 16,
     "metadata": {},
     "output_type": "execute_result"
    }
   ],
   "source": [
    "['无校验','偶校验','奇校验'][['none','even','odd'].index('none')]"
   ]
  },
  {
   "cell_type": "code",
   "execution_count": 2,
   "metadata": {},
   "outputs": [],
   "source": [
    "model_list = [\n",
    "    ['通讯','转台','电源','温箱','装订','自动'],\n",
    "    ['protocal','turntable','power','tempbox','binding','automatic'],\n",
    "    ['解算规则','标定规则','配置文件','装订规则','自动规则']\n",
    "]"
   ]
  },
  {
   "cell_type": "code",
   "execution_count": 21,
   "metadata": {},
   "outputs": [
    {
     "data": {
      "text/plain": [
       "['<', '<']"
      ]
     },
     "execution_count": 21,
     "metadata": {},
     "output_type": "execute_result"
    }
   ],
   "source": [
    "decode_header_list"
   ]
  },
  {
   "cell_type": "code",
   "execution_count": 14,
   "metadata": {},
   "outputs": [
    {
     "name": "stdout",
     "output_type": "stream",
     "text": [
      "全局变量：#\trulehead\t<\n",
      "全局变量：#\trulehead\t<\n"
     ]
    }
   ],
   "source": [
    "rules_lists_format = 'xcbB?hHiIlLqQfdspPtyY'\n",
    "# 主机规则\n",
    "with open('./解算规则/00_惯导通用协议.txt', 'r',encoding='gb2312') as file:\n",
    "# with open('./解算规则/02_激光惯导_长沙挂飞.txt', 'r',encoding='gb2312') as file:\n",
    "    rules = file.read()\n",
    "    \n",
    "rules_lists_format = 'xcbB?hHiIlLqQfdspPtyY'\n",
    "\n",
    "decode_rule_list = []    # 解算规则\n",
    "decode_save_list = []    # 是否保存\n",
    "decode_para_list = []    # 系数\n",
    "decode_titl_list = []    # 标题\n",
    "decode_cout_list = []    # 排序序号\n",
    "decode_sort_list = []    # 排序后列表\n",
    "decode_header_list = []    # 大小端\n",
    "\n",
    "default_header = '>'     # 默认大小端\n",
    "\n",
    "decode_rule = []\n",
    "decode_save = []\n",
    "decode_para = []\n",
    "decode_titl = []\n",
    "decode_cout = []\n",
    "for lines in rules.split('\\n'):\n",
    "    if lines.startswith('#'):\n",
    "        if len(lines.split())<3:\n",
    "            continue\n",
    "        elif lines.split()[1].lower()=='rulehead':\n",
    "            if len(decode_rule)==0:\n",
    "                continue\n",
    "            else:\n",
    "                decode_rule_list.append(decode_rule)\n",
    "                decode_save_list.append(decode_save)\n",
    "                decode_para_list.append(decode_para)\n",
    "                decode_titl_list.append(decode_titl)\n",
    "                decode_cout_list.append(decode_cout)\n",
    "                decode_header_list.append(default_header)\n",
    "                \n",
    "                decode_rule = []\n",
    "                decode_save = []\n",
    "                decode_para = []\n",
    "                decode_titl = []\n",
    "                decode_cout = []\n",
    "            default_header = lines.split()[2]\n",
    "                \n",
    "            print('全局变量：{}'.format(lines))\n",
    "        else:\n",
    "            continue\n",
    "            \n",
    "    elif len(lines)==0 | len(lines.split())==0:\n",
    "        continue\n",
    "    elif len(lines.split())<5:\n",
    "        print('错误长度<{}>'.format(lines))\n",
    "        continue\n",
    "    elif lines.split()[0] not in rules_lists_format:\n",
    "        print('不在解算规则范围内<{}>'.format(lines))\n",
    "        continue\n",
    "    else:\n",
    "        lines_split = lines.split()\n",
    "        decode_rule.append(lines_split[0])\n",
    "        decode_save.append(lines_split[1])\n",
    "        decode_para.append(lines_split[2])\n",
    "        decode_titl.append(lines_split[3])\n",
    "        decode_cout.append(lines_split[4])\n",
    "        \n",
    "if len(decode_rule)!=0:\n",
    "    decode_rule_list.append(decode_rule)\n",
    "    decode_save_list.append(decode_save)\n",
    "    decode_para_list.append(decode_para)\n",
    "    decode_titl_list.append(decode_titl)\n",
    "    decode_cout_list.append(decode_cout)\n",
    "    decode_header_list.append(default_header)\n",
    "    \n",
    "decode_sort_list = []\n",
    "for test_order in decode_cout_list:\n",
    "    max_count = 0\n",
    "    sorted_list = []\n",
    "    for i in range(len(test_order)):\n",
    "        if str(i) in test_order:\n",
    "            continue\n",
    "        else:\n",
    "            max_count = i\n",
    "            break\n",
    "    for i in range(len(test_order)):\n",
    "        if test_order[i]=='N':\n",
    "            sorted_list.append(str(max_count))\n",
    "            max_count +=1\n",
    "        else:\n",
    "            sorted_list.append(test_order[i])\n",
    "    decode_sort_list.append(sorted_list)"
   ]
  },
  {
   "cell_type": "code",
   "execution_count": 17,
   "metadata": {},
   "outputs": [
    {
     "data": {
      "text/plain": [
       "['0',\n",
       " '1',\n",
       " '2',\n",
       " '3',\n",
       " '4',\n",
       " '5',\n",
       " '6',\n",
       " '7',\n",
       " '8',\n",
       " '9',\n",
       " '10',\n",
       " '11',\n",
       " '12',\n",
       " '13',\n",
       " '14',\n",
       " '15',\n",
       " '16',\n",
       " '17']"
      ]
     },
     "execution_count": 17,
     "metadata": {},
     "output_type": "execute_result"
    }
   ],
   "source": [
    "decode_sort_list[1]"
   ]
  },
  {
   "cell_type": "code",
   "execution_count": 9,
   "metadata": {},
   "outputs": [],
   "source": [
    "decode_rule_list=[['B', 'B', 'B', 'B', 'H', 'h', 'I', 'f', 'f', 'f', 'f', 'f', 'f', 'h', 'h', 'h', 'h', 'h', 'x', 'x', 'x', 'x', 'x', 'x', 'x', 'x', 'x', 'x', 'x', 'x', 'x', 'x', 'x', 'x', 'B', 'B', 'B', 'B', 'B', 'H', 'I', 'd', 'd', 'd', 'd', 'd', 'd', 'B', 'x', 'x', 'x', 'x', 'B', 'B', 'B', 'B', 'B', 'H', 'I', 'd', 'd', 'd', 'i', 'i', 'i', 'i', 'i', 'i', 'B', 'H', 'H', 'B', 'B']]\n",
    "decode_save_list=[['0', '0', '0', '0', '0', '1', '1', '1', '1', '1', '1', '1', '1', '1', '1', '1', '1', '1', '0', '0', '0', '0', '0', '0', '0', '0', '0', '0', '0', '0', '0', '0', '0', '0', '0', '0', '0', '0', '0', '0', '0', '0', '0', '0', '0', '0', '0', '0', '0', '0', '0', '0', '0', '0', '0', '0', '0', '1', '1', '1', '1', '1', '1', '1', '1', '1', '1', '1', '1', '0', '0', '0', '0']]\n",
    "decode_para_list=[['1', '1', '1', '1', '1', '0.0625', '0.05', '41256000', '41256000', '41256000', '200', '200', '200', '0.0625', '0.0625', '0.0625', '0.0625', '0.0625', '1', '1', '1', '1', '1', '1', '1', '1', '1', '1', '1', '1', '1', '1', '1', '1', '1', '1', '1', '1', '1', '1', '1', '1', '1', '1', '1', '1', '1', '1', '1', '1', '1', '1', '1', '1', '1', '1', '1', '1', '0.001', '57.3', '57.3', '1', '0.0001', '0.0001', '0.0001', '0.000001', '0.000001', '0.000001', '1', '1', '1', '1', '1']]\n",
    "decode_titl_list=[['0x55', '0xAA', '校验和', 'PPS到来时间差', '状态字', 'z加表温度', '5ms计数', 'Gx', 'Gy', 'Gz', 'Ax', 'Ay', 'Az', 'x陀螺 温度', 'y陀螺温度', 'z陀螺温度', 'x加表温度', 'y加表温度', '保留', '保留', '保留', '保留', '保留', '保留', '保留', '保留', '保留', '保留', '保留', '保留', '保留', '保留', '保留', '保留', '0xC0', '0xFF', '0x66', '0x99', '校验和', 'GPS周', 'GPS毫秒', 'ECEF坐标系位置X', 'ECEF坐标 系位置Y', 'ECEF坐标系位置Z', 'ECEF坐标系速度X', 'ECEF坐标系速度Y', 'ECEF坐标系速度Z', '卫星数', '保留', '保留', '保留', '保留', '0xC0', '0xFF', '0xAA', '0xBB', '校验和', '周', '秒', '纬度', '经度', '高度', '东向速度x', '北向速度y', '天向速度z', '俯仰角x', '滚转角y', '偏航角z','状态字', '保留', '保留', '0xC0', '0xFF']]\n",
    "decode_cout_list=[['N', 'N', 'N', 'N', 'N', '12', '0', '1', '2', '3', '4', '5', '6', '7', '8', '9', '10', '11', 'N', 'N', 'N', 'N', 'N', 'N', 'N', 'N', 'N', 'N', 'N', 'N', 'N', 'N', 'N', 'N', 'N', 'N', 'N', 'N', 'N', 'N', 'N', 'N', 'N', 'N', 'N', 'N', 'N', 'N', 'N', 'N', 'N', 'N', 'N', 'N', 'N', 'N', 'N', 'N', 'N', 'N', 'N', 'N', 'N', 'N', 'N', 'N', 'N', 'N', 'N', 'N', 'N', 'N', 'N']]\n",
    "decode_sort_list=[['13', '14', '15', '16', '17', '12', '0', '1', '2', '3', '4', '5', '6', '7', '8', '9', '10', '11', '18', '19', '20', '21', '22', '23', '24', '25', '26', '27', '28', '29', '30', '31', '32', '33', '34', '35', '36', '37', '38', '39', '40', '41', '42', '43', '44', '45', '46', '47', '48', '49', '50', '51', '52', '53', '54', '55', '56', '57', '58', '59', '60', '61', '62', '63', '64', '65', '66', '67', '68', '69', '70', '71', '72']]\n",
    "decode_header_list=['>', '<', '<']"
   ]
  },
  {
   "cell_type": "code",
   "execution_count": 10,
   "metadata": {},
   "outputs": [
    {
     "name": "stdout",
     "output_type": "stream",
     "text": [
      "head:>\trule:B\tsave:0\tpara:1\ttitl:0x55\tcout:N\tsort:13\n",
      "head:>\trule:B\tsave:0\tpara:1\ttitl:0xAA\tcout:N\tsort:14\n",
      "head:>\trule:B\tsave:0\tpara:1\ttitl:校验和\tcout:N\tsort:15\n",
      "head:>\trule:B\tsave:0\tpara:1\ttitl:PPS到来时间差\tcout:N\tsort:16\n",
      "head:>\trule:H\tsave:0\tpara:1\ttitl:状态字\tcout:N\tsort:17\n",
      "head:>\trule:h\tsave:1\tpara:0.0625\ttitl:z加表温度\tcout:12\tsort:12\n",
      "head:>\trule:I\tsave:1\tpara:0.05\ttitl:5ms计数\tcout:0\tsort:0\n",
      "head:>\trule:f\tsave:1\tpara:41256000\ttitl:Gx\tcout:1\tsort:1\n",
      "head:>\trule:f\tsave:1\tpara:41256000\ttitl:Gy\tcout:2\tsort:2\n",
      "head:>\trule:f\tsave:1\tpara:41256000\ttitl:Gz\tcout:3\tsort:3\n",
      "head:>\trule:f\tsave:1\tpara:200\ttitl:Ax\tcout:4\tsort:4\n",
      "head:>\trule:f\tsave:1\tpara:200\ttitl:Ay\tcout:5\tsort:5\n",
      "head:>\trule:f\tsave:1\tpara:200\ttitl:Az\tcout:6\tsort:6\n",
      "head:>\trule:h\tsave:1\tpara:0.0625\ttitl:x陀螺 温度\tcout:7\tsort:7\n",
      "head:>\trule:h\tsave:1\tpara:0.0625\ttitl:y陀螺温度\tcout:8\tsort:8\n",
      "head:>\trule:h\tsave:1\tpara:0.0625\ttitl:z陀螺温度\tcout:9\tsort:9\n",
      "head:>\trule:h\tsave:1\tpara:0.0625\ttitl:x加表温度\tcout:10\tsort:10\n",
      "head:>\trule:h\tsave:1\tpara:0.0625\ttitl:y加表温度\tcout:11\tsort:11\n",
      "head:>\trule:x\tsave:0\tpara:1\ttitl:保留\tcout:N\tsort:18\n",
      "head:>\trule:x\tsave:0\tpara:1\ttitl:保留\tcout:N\tsort:19\n",
      "head:>\trule:x\tsave:0\tpara:1\ttitl:保留\tcout:N\tsort:20\n",
      "head:>\trule:x\tsave:0\tpara:1\ttitl:保留\tcout:N\tsort:21\n",
      "head:>\trule:x\tsave:0\tpara:1\ttitl:保留\tcout:N\tsort:22\n",
      "head:>\trule:x\tsave:0\tpara:1\ttitl:保留\tcout:N\tsort:23\n",
      "head:>\trule:x\tsave:0\tpara:1\ttitl:保留\tcout:N\tsort:24\n",
      "head:>\trule:x\tsave:0\tpara:1\ttitl:保留\tcout:N\tsort:25\n",
      "head:>\trule:x\tsave:0\tpara:1\ttitl:保留\tcout:N\tsort:26\n",
      "head:>\trule:x\tsave:0\tpara:1\ttitl:保留\tcout:N\tsort:27\n",
      "head:>\trule:x\tsave:0\tpara:1\ttitl:保留\tcout:N\tsort:28\n",
      "head:>\trule:x\tsave:0\tpara:1\ttitl:保留\tcout:N\tsort:29\n",
      "head:>\trule:x\tsave:0\tpara:1\ttitl:保留\tcout:N\tsort:30\n",
      "head:>\trule:x\tsave:0\tpara:1\ttitl:保留\tcout:N\tsort:31\n",
      "head:>\trule:x\tsave:0\tpara:1\ttitl:保留\tcout:N\tsort:32\n",
      "head:>\trule:x\tsave:0\tpara:1\ttitl:保留\tcout:N\tsort:33\n",
      "head:>\trule:B\tsave:0\tpara:1\ttitl:0xC0\tcout:N\tsort:34\n",
      "head:>\trule:B\tsave:0\tpara:1\ttitl:0xFF\tcout:N\tsort:35\n",
      "head:>\trule:B\tsave:0\tpara:1\ttitl:0x66\tcout:N\tsort:36\n",
      "head:>\trule:B\tsave:0\tpara:1\ttitl:0x99\tcout:N\tsort:37\n",
      "head:>\trule:B\tsave:0\tpara:1\ttitl:校验和\tcout:N\tsort:38\n",
      "head:>\trule:H\tsave:0\tpara:1\ttitl:GPS周\tcout:N\tsort:39\n",
      "head:>\trule:I\tsave:0\tpara:1\ttitl:GPS毫秒\tcout:N\tsort:40\n",
      "head:>\trule:d\tsave:0\tpara:1\ttitl:ECEF坐标系位置X\tcout:N\tsort:41\n",
      "head:>\trule:d\tsave:0\tpara:1\ttitl:ECEF坐标 系位置Y\tcout:N\tsort:42\n",
      "head:>\trule:d\tsave:0\tpara:1\ttitl:ECEF坐标系位置Z\tcout:N\tsort:43\n",
      "head:>\trule:d\tsave:0\tpara:1\ttitl:ECEF坐标系速度X\tcout:N\tsort:44\n",
      "head:>\trule:d\tsave:0\tpara:1\ttitl:ECEF坐标系速度Y\tcout:N\tsort:45\n",
      "head:>\trule:d\tsave:0\tpara:1\ttitl:ECEF坐标系速度Z\tcout:N\tsort:46\n",
      "head:>\trule:B\tsave:0\tpara:1\ttitl:卫星数\tcout:N\tsort:47\n",
      "head:>\trule:x\tsave:0\tpara:1\ttitl:保留\tcout:N\tsort:48\n",
      "head:>\trule:x\tsave:0\tpara:1\ttitl:保留\tcout:N\tsort:49\n",
      "head:>\trule:x\tsave:0\tpara:1\ttitl:保留\tcout:N\tsort:50\n",
      "head:>\trule:x\tsave:0\tpara:1\ttitl:保留\tcout:N\tsort:51\n",
      "head:>\trule:B\tsave:0\tpara:1\ttitl:0xC0\tcout:N\tsort:52\n",
      "head:>\trule:B\tsave:0\tpara:1\ttitl:0xFF\tcout:N\tsort:53\n",
      "head:>\trule:B\tsave:0\tpara:1\ttitl:0xAA\tcout:N\tsort:54\n",
      "head:>\trule:B\tsave:0\tpara:1\ttitl:0xBB\tcout:N\tsort:55\n",
      "head:>\trule:B\tsave:0\tpara:1\ttitl:校验和\tcout:N\tsort:56\n",
      "head:>\trule:H\tsave:1\tpara:1\ttitl:周\tcout:N\tsort:57\n",
      "head:>\trule:I\tsave:1\tpara:0.001\ttitl:秒\tcout:N\tsort:58\n",
      "head:>\trule:d\tsave:1\tpara:57.3\ttitl:纬度\tcout:N\tsort:59\n",
      "head:>\trule:d\tsave:1\tpara:57.3\ttitl:经度\tcout:N\tsort:60\n",
      "head:>\trule:d\tsave:1\tpara:1\ttitl:高度\tcout:N\tsort:61\n",
      "head:>\trule:i\tsave:1\tpara:0.0001\ttitl:东向速度x\tcout:N\tsort:62\n",
      "head:>\trule:i\tsave:1\tpara:0.0001\ttitl:北向速度y\tcout:N\tsort:63\n",
      "head:>\trule:i\tsave:1\tpara:0.0001\ttitl:天向速度z\tcout:N\tsort:64\n",
      "head:>\trule:i\tsave:1\tpara:0.000001\ttitl:俯仰角x\tcout:N\tsort:65\n",
      "head:>\trule:i\tsave:1\tpara:0.000001\ttitl:滚转角y\tcout:N\tsort:66\n",
      "head:>\trule:i\tsave:1\tpara:0.000001\ttitl:偏航角z\tcout:N\tsort:67\n",
      "head:>\trule:B\tsave:1\tpara:1\ttitl:状态字\tcout:N\tsort:68\n",
      "head:>\trule:H\tsave:0\tpara:1\ttitl:保留\tcout:N\tsort:69\n",
      "head:>\trule:H\tsave:0\tpara:1\ttitl:保留\tcout:N\tsort:70\n",
      "head:>\trule:B\tsave:0\tpara:1\ttitl:0xC0\tcout:N\tsort:71\n",
      "head:>\trule:B\tsave:0\tpara:1\ttitl:0xFF\tcout:N\tsort:72\n"
     ]
    }
   ],
   "source": [
    "for i in range(len(decode_rule_list)):\n",
    "    for j in range(len(decode_rule_list[i])):\n",
    "        print('head:{}\\trule:{}\\tsave:{}\\tpara:{}\\ttitl:{}\\tcout:{}\\tsort:{}'.format(decode_header_list[i],decode_rule_list[i][j],decode_save_list[i][j],decode_para_list[i][j],decode_titl_list[i][j],decode_cout_list[i][j],decode_sort_list[i][j]))"
   ]
  },
  {
   "cell_type": "code",
   "execution_count": 14,
   "metadata": {},
   "outputs": [
    {
     "name": "stdout",
     "output_type": "stream",
     "text": [
      "102840\n"
     ]
    }
   ],
   "source": [
    "import datetime\n",
    "\n",
    "# 获取当前时间\n",
    "current_time = datetime.datetime.now()\n",
    "\n",
    "# 获取小时、分钟和秒，并将它们格式化为'00:00:00'的形式\n",
    "formatted_time = current_time.strftime('%H%M%S')\n",
    "\n",
    "print(formatted_time)"
   ]
  },
  {
   "cell_type": "code",
   "execution_count": 23,
   "metadata": {},
   "outputs": [
    {
     "name": "stdout",
     "output_type": "stream",
     "text": [
      "['COM0', 'COM1', 'COM2', 'COM11', 'COM12', 'COM21']\n"
     ]
    }
   ],
   "source": [
    "com_list = ['COM0','COM1','COM2','COM11','COM12','COM21']\n",
    "# print(com_list.sort())\n",
    "print(sorted(com_list,key=lambda x:int(x[3:])))"
   ]
  },
  {
   "cell_type": "code",
   "execution_count": 1,
   "metadata": {},
   "outputs": [
    {
     "data": {
      "text/plain": [
       "1"
      ]
     },
     "execution_count": 1,
     "metadata": {},
     "output_type": "execute_result"
    }
   ],
   "source": [
    "lists = [1,2,3]\n",
    "lists.pop(0)"
   ]
  },
  {
   "cell_type": "code",
   "execution_count": 2,
   "metadata": {},
   "outputs": [
    {
     "data": {
      "text/plain": [
       "True"
      ]
     },
     "execution_count": 2,
     "metadata": {},
     "output_type": "execute_result"
    }
   ],
   "source": [
    "lists1 = [1,2,3]\n",
    "lists2 = [1,2,3]\n",
    "lists1==lists2"
   ]
  },
  {
   "cell_type": "code",
   "execution_count": 13,
   "metadata": {},
   "outputs": [],
   "source": [
    "lists2 = [1,2,'None',4,3]\n",
    "lists2.remove('None')"
   ]
  },
  {
   "cell_type": "code",
   "execution_count": 14,
   "metadata": {},
   "outputs": [],
   "source": [
    "lists2.sort()"
   ]
  },
  {
   "cell_type": "code",
   "execution_count": 9,
   "metadata": {},
   "outputs": [],
   "source": [
    "frame_list = []\n",
    "for i in range(10):\n",
    "    frame_list.append(pd.DataFrame([]))"
   ]
  },
  {
   "cell_type": "code",
   "execution_count": 12,
   "metadata": {},
   "outputs": [
    {
     "name": "stderr",
     "output_type": "stream",
     "text": [
      "C:\\Users\\chy\\AppData\\Local\\Temp\\ipykernel_32488\\4144436162.py:1: FutureWarning: The frame.append method is deprecated and will be removed from pandas in a future version. Use pandas.concat instead.\n",
      "  frame_list[0].append([1,2,3,5,5])\n"
     ]
    },
    {
     "data": {
      "text/html": [
       "<div>\n",
       "<style scoped>\n",
       "    .dataframe tbody tr th:only-of-type {\n",
       "        vertical-align: middle;\n",
       "    }\n",
       "\n",
       "    .dataframe tbody tr th {\n",
       "        vertical-align: top;\n",
       "    }\n",
       "\n",
       "    .dataframe thead th {\n",
       "        text-align: right;\n",
       "    }\n",
       "</style>\n",
       "<table border=\"1\" class=\"dataframe\">\n",
       "  <thead>\n",
       "    <tr style=\"text-align: right;\">\n",
       "      <th></th>\n",
       "      <th>0</th>\n",
       "    </tr>\n",
       "  </thead>\n",
       "  <tbody>\n",
       "    <tr>\n",
       "      <th>0</th>\n",
       "      <td>1</td>\n",
       "    </tr>\n",
       "    <tr>\n",
       "      <th>1</th>\n",
       "      <td>2</td>\n",
       "    </tr>\n",
       "    <tr>\n",
       "      <th>2</th>\n",
       "      <td>3</td>\n",
       "    </tr>\n",
       "    <tr>\n",
       "      <th>3</th>\n",
       "      <td>5</td>\n",
       "    </tr>\n",
       "    <tr>\n",
       "      <th>4</th>\n",
       "      <td>5</td>\n",
       "    </tr>\n",
       "  </tbody>\n",
       "</table>\n",
       "</div>"
      ],
      "text/plain": [
       "   0\n",
       "0  1\n",
       "1  2\n",
       "2  3\n",
       "3  5\n",
       "4  5"
      ]
     },
     "execution_count": 12,
     "metadata": {},
     "output_type": "execute_result"
    }
   ],
   "source": [
    "frame_list[0].append([1,2,3,5,5])"
   ]
  },
  {
   "cell_type": "code",
   "execution_count": 7,
   "metadata": {},
   "outputs": [
    {
     "name": "stderr",
     "output_type": "stream",
     "text": [
      "C:\\Users\\chy\\AppData\\Local\\Temp\\ipykernel_32488\\2156111969.py:1: FutureWarning: In a future version of pandas all arguments of concat except for the argument 'objs' will be keyword-only.\n",
      "  pd.concat(frame_list[0],pd.DataFrame([1,2,3,4,5,6]))\n"
     ]
    },
    {
     "ename": "TypeError",
     "evalue": "first argument must be an iterable of pandas objects, you passed an object of type \"DataFrame\"",
     "output_type": "error",
     "traceback": [
      "\u001b[1;31m---------------------------------------------------------------------------\u001b[0m",
      "\u001b[1;31mTypeError\u001b[0m                                 Traceback (most recent call last)",
      "Cell \u001b[1;32mIn[7], line 1\u001b[0m\n\u001b[1;32m----> 1\u001b[0m \u001b[43mpd\u001b[49m\u001b[38;5;241;43m.\u001b[39;49m\u001b[43mconcat\u001b[49m\u001b[43m(\u001b[49m\u001b[43mframe_list\u001b[49m\u001b[43m[\u001b[49m\u001b[38;5;241;43m0\u001b[39;49m\u001b[43m]\u001b[49m\u001b[43m,\u001b[49m\u001b[43mpd\u001b[49m\u001b[38;5;241;43m.\u001b[39;49m\u001b[43mDataFrame\u001b[49m\u001b[43m(\u001b[49m\u001b[43m[\u001b[49m\u001b[38;5;241;43m1\u001b[39;49m\u001b[43m,\u001b[49m\u001b[38;5;241;43m2\u001b[39;49m\u001b[43m,\u001b[49m\u001b[38;5;241;43m3\u001b[39;49m\u001b[43m,\u001b[49m\u001b[38;5;241;43m4\u001b[39;49m\u001b[43m,\u001b[49m\u001b[38;5;241;43m5\u001b[39;49m\u001b[43m,\u001b[49m\u001b[38;5;241;43m6\u001b[39;49m\u001b[43m]\u001b[49m\u001b[43m)\u001b[49m\u001b[43m)\u001b[49m\n",
      "File \u001b[1;32me:\\Program\\Anaconda\\lib\\site-packages\\pandas\\util\\_decorators.py:331\u001b[0m, in \u001b[0;36mdeprecate_nonkeyword_arguments.<locals>.decorate.<locals>.wrapper\u001b[1;34m(*args, **kwargs)\u001b[0m\n\u001b[0;32m    325\u001b[0m \u001b[38;5;28;01mif\u001b[39;00m \u001b[38;5;28mlen\u001b[39m(args) \u001b[38;5;241m>\u001b[39m num_allow_args:\n\u001b[0;32m    326\u001b[0m     warnings\u001b[38;5;241m.\u001b[39mwarn(\n\u001b[0;32m    327\u001b[0m         msg\u001b[38;5;241m.\u001b[39mformat(arguments\u001b[38;5;241m=\u001b[39m_format_argument_list(allow_args)),\n\u001b[0;32m    328\u001b[0m         \u001b[38;5;167;01mFutureWarning\u001b[39;00m,\n\u001b[0;32m    329\u001b[0m         stacklevel\u001b[38;5;241m=\u001b[39mfind_stack_level(),\n\u001b[0;32m    330\u001b[0m     )\n\u001b[1;32m--> 331\u001b[0m \u001b[38;5;28;01mreturn\u001b[39;00m func(\u001b[38;5;241m*\u001b[39margs, \u001b[38;5;241m*\u001b[39m\u001b[38;5;241m*\u001b[39mkwargs)\n",
      "File \u001b[1;32me:\\Program\\Anaconda\\lib\\site-packages\\pandas\\core\\reshape\\concat.py:368\u001b[0m, in \u001b[0;36mconcat\u001b[1;34m(objs, axis, join, ignore_index, keys, levels, names, verify_integrity, sort, copy)\u001b[0m\n\u001b[0;32m    146\u001b[0m \u001b[38;5;129m@deprecate_nonkeyword_arguments\u001b[39m(version\u001b[38;5;241m=\u001b[39m\u001b[38;5;28;01mNone\u001b[39;00m, allowed_args\u001b[38;5;241m=\u001b[39m[\u001b[38;5;124m\"\u001b[39m\u001b[38;5;124mobjs\u001b[39m\u001b[38;5;124m\"\u001b[39m])\n\u001b[0;32m    147\u001b[0m \u001b[38;5;28;01mdef\u001b[39;00m \u001b[38;5;21mconcat\u001b[39m(\n\u001b[0;32m    148\u001b[0m     objs: Iterable[NDFrame] \u001b[38;5;241m|\u001b[39m Mapping[HashableT, NDFrame],\n\u001b[1;32m   (...)\u001b[0m\n\u001b[0;32m    157\u001b[0m     copy: \u001b[38;5;28mbool\u001b[39m \u001b[38;5;241m=\u001b[39m \u001b[38;5;28;01mTrue\u001b[39;00m,\n\u001b[0;32m    158\u001b[0m ) \u001b[38;5;241m-\u001b[39m\u001b[38;5;241m>\u001b[39m DataFrame \u001b[38;5;241m|\u001b[39m Series:\n\u001b[0;32m    159\u001b[0m \u001b[38;5;250m    \u001b[39m\u001b[38;5;124;03m\"\"\"\u001b[39;00m\n\u001b[0;32m    160\u001b[0m \u001b[38;5;124;03m    Concatenate pandas objects along a particular axis.\u001b[39;00m\n\u001b[0;32m    161\u001b[0m \n\u001b[1;32m   (...)\u001b[0m\n\u001b[0;32m    366\u001b[0m \u001b[38;5;124;03m    1   3   4\u001b[39;00m\n\u001b[0;32m    367\u001b[0m \u001b[38;5;124;03m    \"\"\"\u001b[39;00m\n\u001b[1;32m--> 368\u001b[0m     op \u001b[38;5;241m=\u001b[39m \u001b[43m_Concatenator\u001b[49m\u001b[43m(\u001b[49m\n\u001b[0;32m    369\u001b[0m \u001b[43m        \u001b[49m\u001b[43mobjs\u001b[49m\u001b[43m,\u001b[49m\n\u001b[0;32m    370\u001b[0m \u001b[43m        \u001b[49m\u001b[43maxis\u001b[49m\u001b[38;5;241;43m=\u001b[39;49m\u001b[43maxis\u001b[49m\u001b[43m,\u001b[49m\n\u001b[0;32m    371\u001b[0m \u001b[43m        \u001b[49m\u001b[43mignore_index\u001b[49m\u001b[38;5;241;43m=\u001b[39;49m\u001b[43mignore_index\u001b[49m\u001b[43m,\u001b[49m\n\u001b[0;32m    372\u001b[0m \u001b[43m        \u001b[49m\u001b[43mjoin\u001b[49m\u001b[38;5;241;43m=\u001b[39;49m\u001b[43mjoin\u001b[49m\u001b[43m,\u001b[49m\n\u001b[0;32m    373\u001b[0m \u001b[43m        \u001b[49m\u001b[43mkeys\u001b[49m\u001b[38;5;241;43m=\u001b[39;49m\u001b[43mkeys\u001b[49m\u001b[43m,\u001b[49m\n\u001b[0;32m    374\u001b[0m \u001b[43m        \u001b[49m\u001b[43mlevels\u001b[49m\u001b[38;5;241;43m=\u001b[39;49m\u001b[43mlevels\u001b[49m\u001b[43m,\u001b[49m\n\u001b[0;32m    375\u001b[0m \u001b[43m        \u001b[49m\u001b[43mnames\u001b[49m\u001b[38;5;241;43m=\u001b[39;49m\u001b[43mnames\u001b[49m\u001b[43m,\u001b[49m\n\u001b[0;32m    376\u001b[0m \u001b[43m        \u001b[49m\u001b[43mverify_integrity\u001b[49m\u001b[38;5;241;43m=\u001b[39;49m\u001b[43mverify_integrity\u001b[49m\u001b[43m,\u001b[49m\n\u001b[0;32m    377\u001b[0m \u001b[43m        \u001b[49m\u001b[43mcopy\u001b[49m\u001b[38;5;241;43m=\u001b[39;49m\u001b[43mcopy\u001b[49m\u001b[43m,\u001b[49m\n\u001b[0;32m    378\u001b[0m \u001b[43m        \u001b[49m\u001b[43msort\u001b[49m\u001b[38;5;241;43m=\u001b[39;49m\u001b[43msort\u001b[49m\u001b[43m,\u001b[49m\n\u001b[0;32m    379\u001b[0m \u001b[43m    \u001b[49m\u001b[43m)\u001b[49m\n\u001b[0;32m    381\u001b[0m     \u001b[38;5;28;01mreturn\u001b[39;00m op\u001b[38;5;241m.\u001b[39mget_result()\n",
      "File \u001b[1;32me:\\Program\\Anaconda\\lib\\site-packages\\pandas\\core\\reshape\\concat.py:403\u001b[0m, in \u001b[0;36m_Concatenator.__init__\u001b[1;34m(self, objs, axis, join, keys, levels, names, ignore_index, verify_integrity, copy, sort)\u001b[0m\n\u001b[0;32m    389\u001b[0m \u001b[38;5;28;01mdef\u001b[39;00m \u001b[38;5;21m__init__\u001b[39m(\n\u001b[0;32m    390\u001b[0m     \u001b[38;5;28mself\u001b[39m,\n\u001b[0;32m    391\u001b[0m     objs: Iterable[NDFrame] \u001b[38;5;241m|\u001b[39m Mapping[HashableT, NDFrame],\n\u001b[1;32m   (...)\u001b[0m\n\u001b[0;32m    400\u001b[0m     sort\u001b[38;5;241m=\u001b[39m\u001b[38;5;28;01mFalse\u001b[39;00m,\n\u001b[0;32m    401\u001b[0m ) \u001b[38;5;241m-\u001b[39m\u001b[38;5;241m>\u001b[39m \u001b[38;5;28;01mNone\u001b[39;00m:\n\u001b[0;32m    402\u001b[0m     \u001b[38;5;28;01mif\u001b[39;00m \u001b[38;5;28misinstance\u001b[39m(objs, (ABCSeries, ABCDataFrame, \u001b[38;5;28mstr\u001b[39m)):\n\u001b[1;32m--> 403\u001b[0m         \u001b[38;5;28;01mraise\u001b[39;00m \u001b[38;5;167;01mTypeError\u001b[39;00m(\n\u001b[0;32m    404\u001b[0m             \u001b[38;5;124m\"\u001b[39m\u001b[38;5;124mfirst argument must be an iterable of pandas \u001b[39m\u001b[38;5;124m\"\u001b[39m\n\u001b[0;32m    405\u001b[0m             \u001b[38;5;124mf\u001b[39m\u001b[38;5;124m'\u001b[39m\u001b[38;5;124mobjects, you passed an object of type \u001b[39m\u001b[38;5;124m\"\u001b[39m\u001b[38;5;132;01m{\u001b[39;00m\u001b[38;5;28mtype\u001b[39m(objs)\u001b[38;5;241m.\u001b[39m\u001b[38;5;18m__name__\u001b[39m\u001b[38;5;132;01m}\u001b[39;00m\u001b[38;5;124m\"\u001b[39m\u001b[38;5;124m'\u001b[39m\n\u001b[0;32m    406\u001b[0m         )\n\u001b[0;32m    408\u001b[0m     \u001b[38;5;28;01mif\u001b[39;00m join \u001b[38;5;241m==\u001b[39m \u001b[38;5;124m\"\u001b[39m\u001b[38;5;124mouter\u001b[39m\u001b[38;5;124m\"\u001b[39m:\n\u001b[0;32m    409\u001b[0m         \u001b[38;5;28mself\u001b[39m\u001b[38;5;241m.\u001b[39mintersect \u001b[38;5;241m=\u001b[39m \u001b[38;5;28;01mFalse\u001b[39;00m\n",
      "\u001b[1;31mTypeError\u001b[0m: first argument must be an iterable of pandas objects, you passed an object of type \"DataFrame\""
     ]
    }
   ],
   "source": [
    "pd.concat(frame_list[0],pd.DataFrame([1,2,3,4,5,6]))"
   ]
  },
  {
   "cell_type": "code",
   "execution_count": 14,
   "metadata": {},
   "outputs": [],
   "source": [
    "test = b'\\x55\\xaa\\xcc\\xdd'\n",
    "test_list = struct.unpack('>BBBB',test)"
   ]
  },
  {
   "cell_type": "code",
   "execution_count": 20,
   "metadata": {},
   "outputs": [
    {
     "data": {
      "text/plain": [
       "[85, 170, 204, 221]"
      ]
     },
     "execution_count": 20,
     "metadata": {},
     "output_type": "execute_result"
    }
   ],
   "source": [
    "bit_data = []\n",
    "bit_data+=test_list\n",
    "bit_data"
   ]
  },
  {
   "cell_type": "code",
   "execution_count": 63,
   "metadata": {},
   "outputs": [
    {
     "name": "stdout",
     "output_type": "stream",
     "text": [
      "14\n",
      "54\n",
      "1\n"
     ]
    }
   ],
   "source": [
    "now = datetime.datetime.now()\n",
    "print(now.hour)\n",
    "print(now.minute)\n",
    "print(now.second)"
   ]
  }
 ],
 "metadata": {
  "kernelspec": {
   "display_name": "base",
   "language": "python",
   "name": "python3"
  },
  "language_info": {
   "codemirror_mode": {
    "name": "ipython",
    "version": 3
   },
   "file_extension": ".py",
   "mimetype": "text/x-python",
   "name": "python",
   "nbconvert_exporter": "python",
   "pygments_lexer": "ipython3",
   "version": "3.9.16"
  }
 },
 "nbformat": 4,
 "nbformat_minor": 2
}
