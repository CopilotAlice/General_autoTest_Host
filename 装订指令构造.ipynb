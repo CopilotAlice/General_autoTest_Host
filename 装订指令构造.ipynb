{
 "cells": [
  {
   "cell_type": "code",
   "execution_count": 1,
   "metadata": {},
   "outputs": [],
   "source": [
    "import numpy as np \n",
    "import pandas as pd \n",
    "import matplotlib.pyplot as plt \n",
    "from scipy import signal\n",
    "import time\n",
    "import datetime\n",
    "import serial\n",
    "from scipy.fftpack import fft,ifft\n",
    "from matplotlib.pylab import mpl\n",
    "import struct\n",
    "import os\n",
    "import serial\n",
    "\n",
    "mpl.rcParams['font.sans-serif'] = ['SimHei']\n",
    "mpl.rcParams['axes.unicode_minus'] = False"
   ]
  },
  {
   "cell_type": "code",
   "execution_count": 3,
   "metadata": {},
   "outputs": [
    {
     "name": "stdout",
     "output_type": "stream",
     "text": [
      "00 01 02 03 04 05 06 07 08 09 10 11 12 13 14 15 16 17 18 19 20 21 22 23 24 25 26\n",
      "90 EB 16 00 00 A0 00 80 57 AB D8 52 6F E8 40 1C 00 00 14 00 00 00 00 00 00 00 29\n",
      "总长度:27\n"
     ]
    }
   ],
   "source": [
    "# xxxwrj 无人机惯导\n",
    "def re_strings(data):\n",
    "    split_num = 2\n",
    "    crc_data = data\n",
    "    lists = [crc_data[i*split_num:i*split_num+split_num].upper() for i in range(len(crc_data)//split_num)]\n",
    "    return ''.join(lists[::-1])\n",
    "# print(re_strings('0123456789'))\n",
    "\n",
    "strings = ''\n",
    "strings+='90EB'\n",
    "strings+='1600' # 总字节-5\n",
    "\n",
    "# strings+='0080' #北斗/GNSS 北斗\n",
    "# strings+='0040' #北斗/GNSS GNSS\n",
    "# strings+='0020'     # 混合\n",
    "strings+='00A0' #北斗/GNSS 组合导航\n",
    "\n",
    "# strings+=re_strings('8000')     # 指令字-对准\n",
    "strings+=re_strings('8000')     # 指令字-对准\n",
    "\n",
    "loc1 = 116.50270\n",
    "loc2 = 39.73155\n",
    "loc3 = 20\n",
    "# loc1 = 0\n",
    "# loc2 = 0\n",
    "# loc3 = 0\n",
    "strings+=re_strings(hex(int(loc1/90*1073741824))[2:].rjust(8,'0'))\n",
    "strings+=re_strings(hex(int(loc2/90*1073741824))[2:].rjust(8,'0'))\n",
    "strings+=re_strings(hex(int(loc3/16384*1073741824))[2:].rjust(8,'0'))\n",
    "for i in range(3):\n",
    "    strings+='0000'\n",
    "\n",
    "\n",
    "split_num = 2\n",
    "crc_data = strings\n",
    "lists = [crc_data[i*split_num:i*split_num+split_num].upper() for i in range(len(crc_data)//split_num)]\n",
    "int_lists = [int(num,16) for num in lists]\n",
    "# print(len(int_lists[2:]))\n",
    "checks = hex(sum(int_lists[2:]))[2:].rjust(2,'0')[-2:]\n",
    "lists.append(checks.upper())\n",
    "counts = []\n",
    "for i in range(27):\n",
    "    counts.append(str(i).rjust(2,'0'))\n",
    "print(' '.join(counts))\n",
    "print(' '.join(lists))\n",
    "print('总长度:{}'.format(len(lists)))"
   ]
  },
  {
   "cell_type": "code",
   "execution_count": 10,
   "metadata": {},
   "outputs": [
    {
     "data": {
      "text/plain": [
       "'0x509'"
      ]
     },
     "execution_count": 10,
     "metadata": {},
     "output_type": "execute_result"
    }
   ],
   "source": [
    "90 EB 16 00 00 A0 00 80 57 AB D8 52 6F E8 40 1C 00 00 14 00 00 00 00 00 00 00 29\n",
    "\n",
    "# 组合导航 BD+GNSS\n",
    "90 EB 16 00 00 E0 00 80 57 AB D8 52 6F E8 40 1C 00 00 14 00 00 00 00 00 00 00 69\n",
    "# 组合导航 切换GNSS\n",
    "90 EB 16 00 00 60 00 80 57 AB D8 52 6F E8 40 1C 00 00 14 00 00 00 00 00 00 00 E9\n",
    "# 组合导航 切换BD\n",
    "90 EB 16 00 00 A0 00 80 57 AB D8 52 6F E8 40 1C 00 00 14 00 00 00 00 00 00 00 29\n",
    "\n",
    "# 纯惯 切换BD\n",
    "90 EB 16 00 00 80 00 80 57 AB D8 52 6F E8 40 1C 00 00 14 00 00 00 00 00 00 00 09\n",
    "# 纯惯 切换GNSS\n",
    "90 EB 16 00 00 40 00 80 57 AB D8 52 6F E8 40 1C 00 00 14 00 00 00 00 00 00 00 C9\n"
   ]
  },
  {
   "cell_type": "code",
   "execution_count": 14,
   "metadata": {},
   "outputs": [
    {
     "data": {
      "text/plain": [
       "0.034722222222222224"
      ]
     },
     "execution_count": 14,
     "metadata": {},
     "output_type": "execute_result"
    }
   ],
   "source": [
    "1/3.6/16384*2048"
   ]
  }
 ],
 "metadata": {
  "kernelspec": {
   "display_name": "base",
   "language": "python",
   "name": "python3"
  },
  "language_info": {
   "codemirror_mode": {
    "name": "ipython",
    "version": 3
   },
   "file_extension": ".py",
   "mimetype": "text/x-python",
   "name": "python",
   "nbconvert_exporter": "python",
   "pygments_lexer": "ipython3",
   "version": "3.11.7 | packaged by Anaconda, Inc. | (main, Dec 15 2023, 18:05:47) [MSC v.1916 64 bit (AMD64)]"
  },
  "orig_nbformat": 4,
  "vscode": {
   "interpreter": {
    "hash": "1362a89ec3116157496c97e99f9c25bdadd3e550ee8e89100bcbba31aadd7753"
   }
  }
 },
 "nbformat": 4,
 "nbformat_minor": 2
}
