{
 "cells": [
  {
   "cell_type": "code",
   "execution_count": 12,
   "metadata": {},
   "outputs": [],
   "source": [
    "import numpy as np \n",
    "import pandas as pd \n",
    "import matplotlib.pyplot as plt \n",
    "from scipy import signal\n",
    "import time\n",
    "import datetime\n",
    "import serial\n",
    "from scipy.fftpack import fft,ifft\n",
    "from matplotlib.pylab import mpl\n",
    "import struct\n",
    "import os\n",
    "import serial\n",
    "import binascii\n",
    "from fun_chy2 import *\n",
    "\n",
    "mpl.rcParams['font.sans-serif'] = ['SimHei']\n",
    "mpl.rcParams['axes.unicode_minus'] = False"
   ]
  },
  {
   "cell_type": "code",
   "execution_count": 23,
   "metadata": {},
   "outputs": [],
   "source": [
    "!python.exe -m PyQt5.uic.pyuic Automated_testingV1.3.ui -o Automated_testingV13.py"
   ]
  },
  {
   "cell_type": "code",
   "execution_count": 33,
   "metadata": {},
   "outputs": [],
   "source": [
    "!python.exe -m PyQt5.uic.pyuic sample_testingV1.32.ui -o sample_testingV13.py"
   ]
  },
  {
   "cell_type": "code",
   "execution_count": 27,
   "metadata": {},
   "outputs": [],
   "source": [
    "!python.exe -m PyQt5.uic.pyuic sample_testingV1.3.ui -o sample_testingV13.py"
   ]
  },
  {
   "cell_type": "code",
   "execution_count": 3,
   "metadata": {},
   "outputs": [
    {
     "name": "stdout",
     "output_type": "stream",
     "text": [
      "00 01 02 03 04 05 06 07 08 09 10 11 12 13 14 15 16 17 18 19 20 21 22 23 24 25 26\n",
      "90 EB 16 00 00 A0 00 80 57 AB D8 52 6F E8 40 1C 00 00 14 00 00 00 00 00 00 00 29\n",
      "总长度:27\n"
     ]
    }
   ],
   "source": [
    "# xxxwrj 无人机惯导\n",
    "def re_strings(data):\n",
    "    split_num = 2\n",
    "    crc_data = data\n",
    "    lists = [crc_data[i*split_num:i*split_num+split_num].upper() for i in range(len(crc_data)//split_num)]\n",
    "    return ''.join(lists[::-1])\n",
    "# print(re_strings('0123456789'))\n",
    "\n",
    "strings = ''\n",
    "strings+='90EB'\n",
    "strings+='1600' # 总字节-5\n",
    "\n",
    "# strings+='0080' #北斗/GNSS 北斗\n",
    "# strings+='0040' #北斗/GNSS GNSS\n",
    "# strings+='0020'     # 混合\n",
    "strings+='00A0' #北斗/GNSS 组合导航\n",
    "\n",
    "# strings+=re_strings('8000')     # 指令字-对准\n",
    "strings+=re_strings('8000')     # 指令字-对准\n",
    "\n",
    "loc1 = 116.50270\n",
    "loc2 = 39.73155\n",
    "loc3 = 20\n",
    "# loc1 = 0\n",
    "# loc2 = 0\n",
    "# loc3 = 0\n",
    "strings+=re_strings(hex(int(loc1/90*1073741824))[2:].rjust(8,'0'))\n",
    "strings+=re_strings(hex(int(loc2/90*1073741824))[2:].rjust(8,'0'))\n",
    "strings+=re_strings(hex(int(loc3/16384*1073741824))[2:].rjust(8,'0'))\n",
    "for i in range(3):\n",
    "    strings+='0000'\n",
    "\n",
    "\n",
    "split_num = 2\n",
    "crc_data = strings\n",
    "lists = [crc_data[i*split_num:i*split_num+split_num].upper() for i in range(len(crc_data)//split_num)]\n",
    "int_lists = [int(num,16) for num in lists]\n",
    "# print(len(int_lists[2:]))\n",
    "checks = hex(sum(int_lists[2:]))[2:].rjust(2,'0')[-2:]\n",
    "lists.append(checks.upper())\n",
    "counts = []\n",
    "for i in range(27):\n",
    "    counts.append(str(i).rjust(2,'0'))\n",
    "print(' '.join(counts))\n",
    "print(' '.join(lists))\n",
    "print('总长度:{}'.format(len(lists)))"
   ]
  },
  {
   "cell_type": "code",
   "execution_count": 10,
   "metadata": {},
   "outputs": [
    {
     "data": {
      "text/plain": [
       "'0x509'"
      ]
     },
     "execution_count": 10,
     "metadata": {},
     "output_type": "execute_result"
    }
   ],
   "source": [
    "90 EB 16 00 00 A0 00 80 57 AB D8 52 6F E8 40 1C 00 00 14 00 00 00 00 00 00 00 29\n",
    "\n",
    "# 组合导航 BD+GNSS\n",
    "90 EB 16 00 00 E0 00 80 57 AB D8 52 6F E8 40 1C 00 00 14 00 00 00 00 00 00 00 69\n",
    "# 组合导航 切换GNSS\n",
    "90 EB 16 00 00 60 00 80 57 AB D8 52 6F E8 40 1C 00 00 14 00 00 00 00 00 00 00 E9\n",
    "# 组合导航 切换BD\n",
    "90 EB 16 00 00 A0 00 80 57 AB D8 52 6F E8 40 1C 00 00 14 00 00 00 00 00 00 00 29\n",
    "\n",
    "# 纯惯 切换BD\n",
    "90 EB 16 00 00 80 00 80 57 AB D8 52 6F E8 40 1C 00 00 14 00 00 00 00 00 00 00 09\n",
    "# 纯惯 切换GNSS\n",
    "90 EB 16 00 00 40 00 80 57 AB D8 52 6F E8 40 1C 00 00 14 00 00 00 00 00 00 00 C9\n"
   ]
  },
  {
   "cell_type": "code",
   "execution_count": null,
   "metadata": {},
   "outputs": [],
   "source": []
  },
  {
   "cell_type": "code",
   "execution_count": 6,
   "metadata": {},
   "outputs": [],
   "source": [
    "# CRC32 预计算表\n",
    "def calculate_crc32(buffer: bytearray) -> int:\n",
    "    \"\"\"\n",
    "    计算给定二进制缓冲区的 CRC32 值\n",
    "    :param buffer: 二进制缓冲区（bytearray）\n",
    "    :return: 计算得到的 CRC32 值\n",
    "    \"\"\"\n",
    "    ul_crc = 0\n",
    "    for byte in buffer:\n",
    "        ul_crc = aul_crc_table[(ul_crc ^ byte) & 0xff] ^ (ul_crc >> 8)\n",
    "    return ul_crc\n",
    "\n"
   ]
  },
  {
   "cell_type": "code",
   "execution_count": 28,
   "metadata": {},
   "outputs": [
    {
     "name": "stdout",
     "output_type": "stream",
     "text": [
      "[0, 1996959894, 3993919788, 2567524794, 124634137, 1886057615, 3915621685, 2657392035, 249268274, 2044508324, 3772115230, 2547177864, 162941995, 2125561021, 3887607047, 2428444049, 498536548, 1789927666, 4089016648, 2227061214, 450548861, 1843258603, 4107580753, 2211677639, 325883990, 1684777152, 4251122042, 2321926636, 335633487, 1661365465, 4195302755, 2366115317, 997073096, 1281953886, 3579855332, 2724688242, 1006888145, 1258607687, 3524101629, 2768942443, 901097722, 1119000684, 3686517206, 2898065728, 853044451, 1172266101, 3705015759, 2882616665, 651767980, 1373503546, 3369554304, 3218104598, 565507253, 1454621731, 3485111705, 3099436303, 671266974, 1594198024, 3322730930, 2970347812, 795835527, 1483230225, 3244367275, 3060149565, 1994146192, 31158534, 2563907772, 4023717930, 1907459465, 112637215, 2680153253, 3904427059, 2013776290, 251722036, 2517215374, 3775830040, 2137656763, 141376813, 2439277719, 3865271297, 1802195444, 476864866, 2238001368, 4066508878, 1812370925, 453092731, 2181625025, 4111451223, 1706088902, 314042704, 2344532202, 4240017532, 1658658271, 366619977, 2362670323, 4224994405, 1303535960, 984961486, 2747007092, 3569037538, 1256170817, 1037604311, 2765210733, 3554079995, 1131014506, 879679996, 2909243462, 3663771856, 1141124467, 855842277, 2852801631, 3708648649, 1342533948, 654459306, 3188396048, 3373015174, 1466479909, 544179635, 3110523913, 3462522015, 1591671054, 702138776, 2966460450, 3352799412, 1504918807, 783551873, 3082640443, 3233442989, 3988292384, 2596254646, 62317068, 1957810842, 3939845945, 2647816111, 81470997, 1943803523, 3814918930, 2489596804, 225274430, 2053790376, 3826175755, 2466906013, 167816743, 2097651377, 4027552580, 2265490386, 503444072, 1762050814, 4150417245, 2154129355, 426522225, 1852507879, 4275313526, 2312317920, 282753626, 1742555852, 4189708143, 2394877945, 397917763, 1622183637, 3604390888, 2714866558, 953729732, 1340076626, 3518719985, 2797360999, 1068828381, 1219638859, 3624741850, 2936675148, 906185462, 1090812512, 3747672003, 2825379669, 829329135, 1181335161, 3412177804, 3160834842, 628085408, 1382605366, 3423369109, 3138078467, 570562233, 1426400815, 3317316542, 2998733608, 733239954, 1555261956, 3268935591, 3050360625, 752459403, 1541320221, 2607071920, 3965973030, 1969922972, 40735498, 2617837225, 3943577151, 1913087877, 83908371, 2512341634, 3803740692, 2075208622, 213261112, 2463272603, 3855990285, 2094854071, 198958881, 2262029012, 4057260610, 1759359992, 534414190, 2176718541, 4139329115, 1873836001, 414664567, 2282248934, 4279200368, 1711684554, 285281116, 2405801727, 4167216745, 1634467795, 376229701, 2685067896, 3608007406, 1308918612, 956543938, 2808555105, 3495958263, 1231636301, 1047427035, 2932959818, 3654703836, 1088359270, 936918000, 2847714899, 3736837829, 1202900863, 817233897, 3183342108, 3401237130, 1404277552, 615818150, 3134207493, 3453421203, 1423857449, 601450431, 3009837614, 3294710456, 1567103746, 711928724, 3020668471, 3272380065, 1510334235, 755167117]\n"
     ]
    }
   ],
   "source": [
    "lists_data = '''\n",
    " 0x00000000UL, 0x77073096UL, 0xee0e612cUL, 0x990951baUL, 0x076dc419UL,\n",
    "0x706af48fUL,\n",
    " 0xe963a535UL, 0x9e6495a3UL, 0x0edb8832UL, 0x79dcb8a4UL, 0xe0d5e91eUL,\n",
    "0x97d2d988UL,\n",
    " 0x09b64c2bUL, 0x7eb17cbdUL, 0xe7b82d07UL, 0x90bf1d91UL, 0x1db71064UL,\n",
    "0x6ab020f2UL,\n",
    " 0xf3b97148UL, 0x84be41deUL, 0x1adad47dUL, 0x6ddde4ebUL, 0xf4d4b551UL,\n",
    "0x83d385c7UL,\n",
    " 0x136c9856UL, 0x646ba8c0UL, 0xfd62f97aUL, 0x8a65c9ecUL, 0x14015c4fUL,\n",
    "0x63066cd9UL,\n",
    " 0xfa0f3d63UL, 0x8d080df5UL, 0x3b6e20c8UL, 0x4c69105eUL, 0xd56041e4UL,\n",
    "0xa2677172UL,\n",
    " 0x3c03e4d1UL, 0x4b04d447UL, 0xd20d85fdUL, 0xa50ab56bUL, 0x35b5a8faUL,\n",
    "0x42b2986cUL,\n",
    " 0xdbbbc9d6UL, 0xacbcf940UL, 0x32d86ce3UL, 0x45df5c75UL, 0xdcd60dcfUL,\n",
    "0xabd13d59UL,\n",
    " 0x26d930acUL, 0x51de003aUL, 0xc8d75180UL, 0xbfd06116UL, 0x21b4f4b5UL,\n",
    "0x56b3c423UL,\n",
    " 0xcfba9599UL, 0xb8bda50fUL, 0x2802b89eUL, 0x5f058808UL, 0xc60cd9b2UL,\n",
    "0xb10be924UL,\n",
    " 0x2f6f7c87UL, 0x58684c11UL, 0xc1611dabUL, 0xb6662d3dUL, 0x76dc4190UL,\n",
    "0x01db7106UL,\n",
    " 0x98d220bcUL, 0xefd5102aUL, 0x71b18589UL, 0x06b6b51fUL, 0x9fbfe4a5UL,\n",
    "0xe8b8d433UL,\n",
    " 0x7807c9a2UL, 0x0f00f934UL, 0x9609a88eUL, 0xe10e9818UL, 0x7f6a0dbbUL,\n",
    "0x086d3d2dUL,\n",
    " 0x91646c97UL, 0xe6635c01UL, 0x6b6b51f4UL, 0x1c6c6162UL, 0x856530d8UL,\n",
    "0xf262004eUL,\n",
    " 0x6c0695edUL, 0x1b01a57bUL, 0x8208f4c1UL, 0xf50fc457UL, 0x65b0d9c6UL,\n",
    "0x12b7e950UL,\n",
    " 0x8bbeb8eaUL, 0xfcb9887cUL, 0x62dd1ddfUL, 0x15da2d49UL, 0x8cd37cf3UL,\n",
    "0xfbd44c65UL,\n",
    " 0x4db26158UL, 0x3ab551ceUL, 0xa3bc0074UL, 0xd4bb30e2UL, 0x4adfa541UL,\n",
    "0x3dd895d7UL,\n",
    " 0xa4d1c46dUL, 0xd3d6f4fbUL, 0x4369e96aUL, 0x346ed9fcUL, 0xad678846UL,\n",
    "0xda60b8d0UL,\n",
    " 0x44042d73UL, 0x33031de5UL, 0xaa0a4c5fUL, 0xdd0d7cc9UL, 0x5005713cUL,\n",
    "0x270241aaUL,\n",
    " 0xbe0b1010UL, 0xc90c2086UL, 0x5768b525UL, 0x206f85b3UL, 0xb966d409UL,\n",
    "0xce61e49fUL,\n",
    " 0x5edef90eUL, 0x29d9c998UL, 0xb0d09822UL, 0xc7d7a8b4UL, 0x59b33d17UL,\n",
    "0x2eb40d81UL,\n",
    " 0xb7bd5c3bUL, 0xc0ba6cadUL, 0xedb88320UL, 0x9abfb3b6UL, 0x03b6e20cUL,\n",
    "0x74b1d29aUL,\n",
    " 0xead54739UL, 0x9dd277afUL, 0x04db2615UL, 0x73dc1683UL, 0xe3630b12UL,\n",
    "0x94643b84UL,\n",
    " 0x0d6d6a3eUL, 0x7a6a5aa8UL, 0xe40ecf0bUL, 0x9309ff9dUL, 0x0a00ae27UL,\n",
    "0x7d079eb1UL,\n",
    " 0xf00f9344UL, 0x8708a3d2UL, 0x1e01f268UL, 0x6906c2feUL, 0xf762575dUL,\n",
    "0x806567cbUL,\n",
    " 0x196c3671UL, 0x6e6b06e7UL, 0xfed41b76UL, 0x89d32be0UL, 0x10da7a5aUL,\n",
    "0x67dd4accUL,\n",
    " 0xf9b9df6fUL, 0x8ebeeff9UL, 0x17b7be43UL, 0x60b08ed5UL, 0xd6d6a3e8UL,\n",
    "0xa1d1937eUL,\n",
    " 0x38d8c2c4UL, 0x4fdff252UL, 0xd1bb67f1UL, 0xa6bc5767UL, 0x3fb506ddUL,\n",
    "0x48b2364bUL,\n",
    " 0xd80d2bdaUL, 0xaf0a1b4cUL, 0x36034af6UL, 0x41047a60UL, 0xdf60efc3UL,\n",
    "0xa867df55UL,\n",
    " 0x316e8eefUL, 0x4669be79UL, 0xcb61b38cUL, 0xbc66831aUL, 0x256fd2a0UL,\n",
    "0x5268e236UL,\n",
    " 0xcc0c7795UL, 0xbb0b4703UL, 0x220216b9UL, 0x5505262fUL, 0xc5ba3bbeUL,\n",
    "0xb2bd0b28UL,   \n",
    " 0x2bb45a92UL, 0x5cb36a04UL, 0xc2d7ffa7UL, 0xb5d0cf31UL, 0x2cd99e8bUL,\n",
    "0x5bdeae1dUL,\n",
    " 0x9b64c2b0UL, 0xec63f226UL, 0x756aa39cUL, 0x026d930aUL, 0x9c0906a9UL,\n",
    "0xeb0e363fUL,\n",
    " 0x72076785UL, 0x05005713UL, 0x95bf4a82UL, 0xe2b87a14UL, 0x7bb12baeUL,\n",
    "0x0cb61b38UL,\n",
    " 0x92d28e9bUL, 0xe5d5be0dUL, 0x7cdcefb7UL, 0x0bdbdf21UL, 0x86d3d2d4UL,\n",
    "0xf1d4e242UL,\n",
    " 0x68ddb3f8UL, 0x1fda836eUL, 0x81be16cdUL, 0xf6b9265bUL, 0x6fb077e1UL,\n",
    "0x18b74777UL,\n",
    " 0x88085ae6UL, 0xff0f6a70UL, 0x66063bcaUL, 0x11010b5cUL, 0x8f659effUL,\n",
    "0xf862ae69UL,\n",
    " 0x616bffd3UL, 0x166ccf45UL, 0xa00ae278UL, 0xd70dd2eeUL, 0x4e048354UL,\n",
    "0x3903b3c2UL,\n",
    " 0xa7672661UL, 0xd06016f7UL, 0x4969474dUL, 0x3e6e77dbUL, 0xaed16a4aUL,\n",
    "0xd9d65adcUL,\n",
    " 0x40df0b66UL, 0x37d83bf0UL, 0xa9bcae53UL, 0xdebb9ec5UL, 0x47b2cf7fUL,\n",
    "0x30b5ffe9UL,\n",
    " 0xbdbdf21cUL, 0xcabac28aUL, 0x53b39330UL, 0x24b4a3a6UL, 0xbad03605UL,\n",
    "0xcdd70693UL,\n",
    " 0x54de5729UL, 0x23d967bfUL, 0xb3667a2eUL, 0xc4614ab8UL, 0x5d681b02UL,\n",
    "0x2a6f2b94UL,\n",
    " 0xb40bbe37UL, 0xc30c8ea1UL, 0x5a05df1bUL, 0x2d02ef8dUL\n",
    "'''\n",
    "lists_data = lists_data.replace('UL','')\n",
    "lists_data = lists_data.replace('\\n','')\n",
    "lists_data = lists_data.replace(' ','')\n",
    "lists_data = lists_data.split(',')\n",
    "lists_data = [int(i,16) for i in lists_data]\n",
    "print(lists_data)"
   ]
  },
  {
   "cell_type": "code",
   "execution_count": 34,
   "metadata": {},
   "outputs": [
    {
     "data": {
      "text/plain": [
       "32.0"
      ]
     },
     "execution_count": 34,
     "metadata": {},
     "output_type": "execute_result"
    }
   ],
   "source": [
    "len(lists_data)/8"
   ]
  },
  {
   "cell_type": "code",
   "execution_count": 37,
   "metadata": {},
   "outputs": [
    {
     "name": "stdout",
     "output_type": "stream",
     "text": [
      "0,1996959894,3993919788,2567524794,124634137,1886057615,3915621685,2657392035,\n",
      "249268274,2044508324,3772115230,2547177864,162941995,2125561021,3887607047,2428444049,\n",
      "498536548,1789927666,4089016648,2227061214,450548861,1843258603,4107580753,2211677639,\n",
      "325883990,1684777152,4251122042,2321926636,335633487,1661365465,4195302755,2366115317,\n",
      "997073096,1281953886,3579855332,2724688242,1006888145,1258607687,3524101629,2768942443,\n",
      "901097722,1119000684,3686517206,2898065728,853044451,1172266101,3705015759,2882616665,\n",
      "651767980,1373503546,3369554304,3218104598,565507253,1454621731,3485111705,3099436303,\n",
      "671266974,1594198024,3322730930,2970347812,795835527,1483230225,3244367275,3060149565,\n",
      "1994146192,31158534,2563907772,4023717930,1907459465,112637215,2680153253,3904427059,\n",
      "2013776290,251722036,2517215374,3775830040,2137656763,141376813,2439277719,3865271297,\n",
      "1802195444,476864866,2238001368,4066508878,1812370925,453092731,2181625025,4111451223,\n",
      "1706088902,314042704,2344532202,4240017532,1658658271,366619977,2362670323,4224994405,\n",
      "1303535960,984961486,2747007092,3569037538,1256170817,1037604311,2765210733,3554079995,\n",
      "1131014506,879679996,2909243462,3663771856,1141124467,855842277,2852801631,3708648649,\n",
      "1342533948,654459306,3188396048,3373015174,1466479909,544179635,3110523913,3462522015,\n",
      "1591671054,702138776,2966460450,3352799412,1504918807,783551873,3082640443,3233442989,\n",
      "3988292384,2596254646,62317068,1957810842,3939845945,2647816111,81470997,1943803523,\n",
      "3814918930,2489596804,225274430,2053790376,3826175755,2466906013,167816743,2097651377,\n",
      "4027552580,2265490386,503444072,1762050814,4150417245,2154129355,426522225,1852507879,\n",
      "4275313526,2312317920,282753626,1742555852,4189708143,2394877945,397917763,1622183637,\n",
      "3604390888,2714866558,953729732,1340076626,3518719985,2797360999,1068828381,1219638859,\n",
      "3624741850,2936675148,906185462,1090812512,3747672003,2825379669,829329135,1181335161,\n",
      "3412177804,3160834842,628085408,1382605366,3423369109,3138078467,570562233,1426400815,\n",
      "3317316542,2998733608,733239954,1555261956,3268935591,3050360625,752459403,1541320221,\n",
      "2607071920,3965973030,1969922972,40735498,2617837225,3943577151,1913087877,83908371,\n",
      "2512341634,3803740692,2075208622,213261112,2463272603,3855990285,2094854071,198958881,\n",
      "2262029012,4057260610,1759359992,534414190,2176718541,4139329115,1873836001,414664567,\n",
      "2282248934,4279200368,1711684554,285281116,2405801727,4167216745,1634467795,376229701,\n",
      "2685067896,3608007406,1308918612,956543938,2808555105,3495958263,1231636301,1047427035,\n",
      "2932959818,3654703836,1088359270,936918000,2847714899,3736837829,1202900863,817233897,\n",
      "3183342108,3401237130,1404277552,615818150,3134207493,3453421203,1423857449,601450431,\n",
      "3009837614,3294710456,1567103746,711928724,3020668471,3272380065,1510334235,755167117,\n"
     ]
    }
   ],
   "source": [
    "for j in range(32):\n",
    "    for i in range(8):\n",
    "        print(str(lists_data[j*8+i])+',',end='' )\n",
    "    print()\n",
    "    "
   ]
  },
  {
   "cell_type": "code",
   "execution_count": 15,
   "metadata": {},
   "outputs": [
    {
     "name": "stdout",
     "output_type": "stream",
     "text": [
      "DRPVAA,COM1,0,92.0,FINE,1867,111471.800,00000000,14,0;SOL_COMPUTED,SINGLE,WGS84,0,0,0,0,0.800,2573.000,40.07899836523,116.23661722090,68.5569,-9.7848,0.1522,0.1489,0.0213,-0.0001,-0.0001,0.0010,0.0096,0.0097,0.0097,359.589710,-1.236787,1.344697,0.0000,0.0020,0.0020,1,0,0,0,0.0000,0.0000,0.0000,0.0000,0.000000,0.000000,0.000000,0.000000\n",
      "49\n",
      "9aa8b508\n",
      "3482309119\n",
      "0xcf8fd1ff\n",
      "2594747656\n",
      "0x9aa8b508\n"
     ]
    }
   ],
   "source": [
    "text = '''#DRPVAA,COM1,0,92.0,FINE,1867,111471.800,00000000,14,0;SOL_COMPUTED,SINGLE\n",
    ",WGS84,0,0,0,0,0.800,2573.000,40.07899836523,116.23661722090,68.5569,-\n",
    "9.7848,0.1522,0.1489,0.0213,-0.0001,-0.0001,0.0010,0.0096,0.0097,0.0097,359.589710,-\n",
    "1.236787,1.344697,0.0000,0.0020,0.0020,1,0,0,0,0.0000,0.0000,0.0000,0.0000,0.000000,0.\n",
    "000000,0.000000,0.000000*9aa8b508'''\n",
    "text = text.replace('\\n','')\n",
    "data = text[1:].split('*')[0]\n",
    "crc = text[1:].split('*')[1]\n",
    "print(data)\n",
    "print(len(data.split(',')))\n",
    "print(crc)\n",
    "crc = binascii.crc32(data.encode('ascii'))\n",
    "print(crc)\n",
    "print(hex(crc))\n",
    "crc2 = calculate_crc32(data.encode('ascii'))\n",
    "print(crc2)\n",
    "print(hex(crc2))"
   ]
  },
  {
   "cell_type": "code",
   "execution_count": 24,
   "metadata": {},
   "outputs": [
    {
     "name": "stdout",
     "output_type": "stream",
     "text": [
      "27\n",
      "1952116701\n",
      "0x745aefdd\n"
     ]
    }
   ],
   "source": [
    "text = 'HEADINGA,COM1,0,0.0,0,0,0.000,0,0,0;,INSUFFICIENT_OBS,NONE,0.0000,0.0000,0.0000,0.0000,0.0000,0.0000,\"0\",0,0,0,0,0,00,0,0'\n",
    "print(len(text.split(',')))\n",
    "crc2 = calculate_crc32(text.encode('ascii'))\n",
    "print(crc2)\n",
    "print(hex(crc2))"
   ]
  },
  {
   "cell_type": "code",
   "execution_count": 22,
   "metadata": {},
   "outputs": [
    {
     "data": {
      "text/plain": [
       "'0'"
      ]
     },
     "execution_count": 22,
     "metadata": {},
     "output_type": "execute_result"
    }
   ],
   "source": [
    "text.split(',')[25]"
   ]
  },
  {
   "cell_type": "code",
   "execution_count": null,
   "metadata": {},
   "outputs": [],
   "source": []
  },
  {
   "cell_type": "code",
   "execution_count": null,
   "metadata": {},
   "outputs": [],
   "source": []
  }
 ],
 "metadata": {
  "kernelspec": {
   "display_name": "base",
   "language": "python",
   "name": "python3"
  },
  "language_info": {
   "codemirror_mode": {
    "name": "ipython",
    "version": 3
   },
   "file_extension": ".py",
   "mimetype": "text/x-python",
   "name": "python",
   "nbconvert_exporter": "python",
   "pygments_lexer": "ipython3",
   "version": "3.9.16"
  },
  "orig_nbformat": 4,
  "vscode": {
   "interpreter": {
    "hash": "1362a89ec3116157496c97e99f9c25bdadd3e550ee8e89100bcbba31aadd7753"
   }
  }
 },
 "nbformat": 4,
 "nbformat_minor": 2
}
